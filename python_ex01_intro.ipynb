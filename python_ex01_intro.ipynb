{
  "nbformat": 4,
  "nbformat_minor": 0,
  "metadata": {
    "colab": {
      "provenance": []
    },
    "kernelspec": {
      "name": "python3",
      "display_name": "Python 3"
    },
    "language_info": {
      "name": "python"
    }
  },
  "cells": [
    {
      "cell_type": "markdown",
      "source": [
        "**Ex 1. Scalar objects / Typy danych skalarnych**"
      ],
      "metadata": {
        "id": "AmV6bSnIwkvZ"
      }
    },
    {
      "cell_type": "code",
      "source": [
        "number = 10\n",
        "type(number)"
      ],
      "metadata": {
        "id": "iHPfJcMgwyNV",
        "collapsed": true
      },
      "execution_count": null,
      "outputs": []
    },
    {
      "cell_type": "code",
      "source": [
        "number = 1.0\n",
        "type(number)"
      ],
      "metadata": {
        "id": "GLBhLQz_xIHY"
      },
      "execution_count": null,
      "outputs": []
    },
    {
      "cell_type": "code",
      "source": [
        "bool_var = True   # False\n",
        "type(bool_var)"
      ],
      "metadata": {
        "id": "T7Bfe9vExL91"
      },
      "execution_count": null,
      "outputs": []
    },
    {
      "cell_type": "code",
      "source": [
        "number: int = 1\n",
        "Number: float = 1.0\n",
        "print(number)\n",
        "print(Number)"
      ],
      "metadata": {
        "id": "_5fCOHWzUIzT"
      },
      "execution_count": null,
      "outputs": []
    },
    {
      "cell_type": "code",
      "source": [
        "number: str = 1\n",
        "Number: int = 1.0\n",
        "print(number)\n",
        "print(type(number))\n",
        "print(Number)"
      ],
      "metadata": {
        "id": "uXByhNFxGF51"
      },
      "execution_count": null,
      "outputs": []
    },
    {
      "cell_type": "markdown",
      "source": [
        "**Ex 2. Print - printing the message to the standard output device / wyświetlanie w konsoli**"
      ],
      "metadata": {
        "id": "wTnYCwWNJP2W"
      }
    },
    {
      "cell_type": "code",
      "source": [
        "x, y, z = 0, 2.0, 5\n",
        "print('x = ',x)\n",
        "print('y = {:.2f}'.format(y))\n",
        "print(f'z = {y*z}')"
      ],
      "metadata": {
        "id": "Pdy7yKaTXnlq"
      },
      "execution_count": null,
      "outputs": []
    },
    {
      "cell_type": "code",
      "source": [
        "var: int = 10\n",
        "print(f'{var=}')"
      ],
      "metadata": {
        "id": "0VQGZGbUQz8O"
      },
      "execution_count": null,
      "outputs": []
    },
    {
      "cell_type": "code",
      "source": [
        "print(f'{5+5=}')\n",
        "print(f'{5 + 5 = }')"
      ],
      "metadata": {
        "id": "BOnvl0CZRlLr"
      },
      "execution_count": null,
      "outputs": []
    },
    {
      "cell_type": "code",
      "source": [
        "var: float = 3.1415926\n",
        "print(f'{var:.4f}')"
      ],
      "metadata": {
        "id": "DYPeznTOR8td"
      },
      "execution_count": null,
      "outputs": []
    },
    {
      "cell_type": "code",
      "source": [
        "var: float = 0.4526\n",
        "print(f'{var:.2%}')\n",
        "print(f'{var:.1%}')"
      ],
      "metadata": {
        "colab": {
          "base_uri": "https://localhost:8080/"
        },
        "id": "vCwFlxtuSX6n",
        "outputId": "cc8482f3-cf1b-4b13-c924-9d265a9ab199"
      },
      "execution_count": null,
      "outputs": [
        {
          "output_type": "stream",
          "name": "stdout",
          "text": [
            "45.26%\n",
            "45.3%\n"
          ]
        }
      ]
    },
    {
      "cell_type": "code",
      "source": [
        "var: int = 2_000_000_000_000\n",
        "print(var)\n",
        "print(f'{var:,}')\n",
        "print(f'{var:_}')"
      ],
      "metadata": {
        "colab": {
          "base_uri": "https://localhost:8080/"
        },
        "id": "AMCdNEcGS-2y",
        "outputId": "b54f825e-729e-4e52-b325-0cb28ff4dec7"
      },
      "execution_count": null,
      "outputs": [
        {
          "output_type": "stream",
          "name": "stdout",
          "text": [
            "2000000000000\n",
            "2,000,000,000,000\n",
            "2_000_000_000_000\n"
          ]
        }
      ]
    },
    {
      "cell_type": "code",
      "source": [
        "# nested f-strings\n",
        "print(f'{2*2} {f\"{3*3}\"}')"
      ],
      "metadata": {
        "colab": {
          "base_uri": "https://localhost:8080/"
        },
        "id": "K8TaUiiSU5Ct",
        "outputId": "478f7ed6-062b-44c2-a260-bc0dd997db14"
      },
      "execution_count": null,
      "outputs": [
        {
          "output_type": "stream",
          "name": "stdout",
          "text": [
            "4 9\n"
          ]
        }
      ]
    },
    {
      "cell_type": "code",
      "source": [
        "#***\n",
        "txt: str = 'Python'\n",
        "print(f'{txt:_>10}')\n",
        "print(f'{txt:*^10}')\n",
        "print(f'{txt:_<10}')"
      ],
      "metadata": {
        "colab": {
          "base_uri": "https://localhost:8080/"
        },
        "id": "ZWmtPdshVjaA",
        "outputId": "6d8331f5-5df4-4184-bed4-d73aa0aedc16"
      },
      "execution_count": null,
      "outputs": [
        {
          "output_type": "stream",
          "name": "stdout",
          "text": [
            "____Python\n",
            "**Python**\n",
            "Python____\n"
          ]
        }
      ]
    },
    {
      "cell_type": "code",
      "source": [
        "txt: str = 'Python'\n",
        "print(f'{txt:>10}')\n",
        "print(f'{txt:^10}')\n",
        "print(f'{txt:<10}: is script language')"
      ],
      "metadata": {
        "colab": {
          "base_uri": "https://localhost:8080/"
        },
        "id": "bCPhx1utWOnT",
        "outputId": "5154a6ff-d300-4911-cbc1-4a3fe30f3bde"
      },
      "execution_count": null,
      "outputs": [
        {
          "output_type": "stream",
          "name": "stdout",
          "text": [
            "    Python\n",
            "  Python  \n",
            "Python    : is script language\n"
          ]
        }
      ]
    },
    {
      "cell_type": "code",
      "source": [
        "txt: str = 'Python'\n",
        "idx: int = 15\n",
        "print(f'{txt:>{idx}}')\n",
        "print(f'{txt:^{idx+5}}')\n",
        "print(f'{txt:{idx}}')"
      ],
      "metadata": {
        "colab": {
          "base_uri": "https://localhost:8080/"
        },
        "id": "Kt6-TDmUWjGa",
        "outputId": "16470833-feef-4c32-f69c-efeed2229fc3"
      },
      "execution_count": null,
      "outputs": [
        {
          "output_type": "stream",
          "name": "stdout",
          "text": [
            "         Python\n",
            "       Python       \n",
            "Python         \n"
          ]
        }
      ]
    },
    {
      "cell_type": "markdown",
      "source": [
        "**Ex 3. Arithmetic operators / Operatory matematyczne**"
      ],
      "metadata": {
        "id": "FoZRcaAQx9zX"
      }
    },
    {
      "cell_type": "markdown",
      "source": [
        "https://www.w3schools.com/python/python_operators.asp"
      ],
      "metadata": {
        "id": "oGy_h6e6IF0H"
      }
    },
    {
      "cell_type": "code",
      "source": [
        "# Division - integer\n",
        "print(7//4)\n",
        "# Division - modulus / reminder\n",
        "print(7%4)\n",
        "# Exponentiation\n",
        "print(2**5)"
      ],
      "metadata": {
        "colab": {
          "base_uri": "https://localhost:8080/"
        },
        "id": "7t709RagyCOz",
        "outputId": "be782172-1300-4b33-e8ef-b7d224a1eac2"
      },
      "execution_count": null,
      "outputs": [
        {
          "output_type": "stream",
          "name": "stdout",
          "text": [
            "1\n",
            "3\n",
            "32\n"
          ]
        }
      ]
    },
    {
      "cell_type": "markdown",
      "source": [
        "**Ex 4. Strings / Obiekty typu string**"
      ],
      "metadata": {
        "id": "7wYV_ET3zFU2"
      }
    },
    {
      "cell_type": "markdown",
      "source": [
        "https://www.w3schools.com/python/python_strings.asp"
      ],
      "metadata": {
        "id": "dmVSRO1eIgQD"
      }
    },
    {
      "cell_type": "code",
      "source": [
        "a = \"Python\"\n",
        "b = \"language\"\n",
        "c = a + b\n",
        "print(c)\n",
        "c = a + \" \" + b\n",
        "print(c)\n",
        "c = 2 * a + b\n",
        "print(c)"
      ],
      "metadata": {
        "colab": {
          "base_uri": "https://localhost:8080/"
        },
        "id": "mZulYXhc2eKv",
        "outputId": "707cb3f7-77bf-471d-fea5-9aa007a8e2e7"
      },
      "execution_count": null,
      "outputs": [
        {
          "output_type": "stream",
          "name": "stdout",
          "text": [
            "Pythonlanguage\n",
            "Python language\n",
            "PythonPythonlanguage\n"
          ]
        }
      ]
    },
    {
      "cell_type": "code",
      "source": [
        "a = \"Python\"\n",
        "print(len(a))\n",
        "print(a[0])\n",
        "print(a[1])\n",
        "print(a[-1])\n",
        "print(a[-2])"
      ],
      "metadata": {
        "colab": {
          "base_uri": "https://localhost:8080/"
        },
        "id": "lznIJS-63PAg",
        "outputId": "3267f70d-b00d-45de-ae9d-1c55185da899"
      },
      "execution_count": null,
      "outputs": [
        {
          "output_type": "stream",
          "name": "stdout",
          "text": [
            "6\n",
            "P\n",
            "y\n",
            "n\n",
            "o\n"
          ]
        }
      ]
    },
    {
      "cell_type": "markdown",
      "source": [
        "**Ex 5. Modify strings / Praca z obiektami typu string**"
      ],
      "metadata": {
        "id": "nI6a3wiRJ2pJ"
      }
    },
    {
      "cell_type": "code",
      "source": [
        "# String slicing - substrings\n",
        "a = \"Python languages\"\n",
        "print(a[2:5])   # [start:stop-1]\n",
        "print(a[0:8:3]) # [start:stop:step]\n",
        "print(a[::2])\n",
        "print(a[::-1])\n",
        "print(a[6:2:-2])\n",
        "print(a[4:1])"
      ],
      "metadata": {
        "colab": {
          "base_uri": "https://localhost:8080/"
        },
        "id": "bUXeouFh3yD2",
        "outputId": "d5bafbd7-91aa-4d8f-db08-97e3212cccec"
      },
      "execution_count": null,
      "outputs": [
        {
          "output_type": "stream",
          "name": "stdout",
          "text": [
            "tho\n",
            "Ph \n",
            "Pto agae\n",
            "segaugnal nohtyP\n",
            " o\n",
            "\n"
          ]
        }
      ]
    },
    {
      "cell_type": "code",
      "source": [
        "a = \"Python language\"\n",
        "print(a)\n",
        "print(a[2])"
      ],
      "metadata": {
        "id": "8hxtoptg70d4",
        "colab": {
          "base_uri": "https://localhost:8080/"
        },
        "collapsed": true,
        "outputId": "ae0b434c-e366-4a04-e42f-f85ce1fbc117"
      },
      "execution_count": null,
      "outputs": [
        {
          "output_type": "stream",
          "name": "stdout",
          "text": [
            "Python language\n",
            "t\n"
          ]
        }
      ]
    },
    {
      "cell_type": "code",
      "source": [
        "# String are immutable\n",
        "a = \"Python language\"\n",
        "a[2]='X'"
      ],
      "metadata": {
        "colab": {
          "base_uri": "https://localhost:8080/",
          "height": 178
        },
        "id": "CunAPgG2VCKF",
        "outputId": "7f91fe7a-6f95-4d73-c436-1524da2a1aaa"
      },
      "execution_count": null,
      "outputs": [
        {
          "output_type": "error",
          "ename": "TypeError",
          "evalue": "'str' object does not support item assignment",
          "traceback": [
            "\u001b[0;31m---------------------------------------------------------------------------\u001b[0m",
            "\u001b[0;31mTypeError\u001b[0m                                 Traceback (most recent call last)",
            "\u001b[0;32m<ipython-input-21-e42a8ddaebf8>\u001b[0m in \u001b[0;36m<cell line: 0>\u001b[0;34m()\u001b[0m\n\u001b[1;32m      1\u001b[0m \u001b[0;31m# String are immutable\u001b[0m\u001b[0;34m\u001b[0m\u001b[0;34m\u001b[0m\u001b[0m\n\u001b[1;32m      2\u001b[0m \u001b[0ma\u001b[0m \u001b[0;34m=\u001b[0m \u001b[0;34m\"Python language\"\u001b[0m\u001b[0;34m\u001b[0m\u001b[0;34m\u001b[0m\u001b[0m\n\u001b[0;32m----> 3\u001b[0;31m \u001b[0ma\u001b[0m\u001b[0;34m[\u001b[0m\u001b[0;36m2\u001b[0m\u001b[0;34m]\u001b[0m\u001b[0;34m=\u001b[0m\u001b[0;34m'X'\u001b[0m\u001b[0;34m\u001b[0m\u001b[0;34m\u001b[0m\u001b[0m\n\u001b[0m",
            "\u001b[0;31mTypeError\u001b[0m: 'str' object does not support item assignment"
          ]
        }
      ]
    },
    {
      "cell_type": "code",
      "source": [
        "a = \"Python language\"\n",
        "a = a[:2] + \"X\" + a[3:]\n",
        "print(a)"
      ],
      "metadata": {
        "colab": {
          "base_uri": "https://localhost:8080/"
        },
        "id": "UF55HquU8Z-G",
        "outputId": "a3749757-4a8f-47a7-a486-135a10751337"
      },
      "execution_count": null,
      "outputs": [
        {
          "output_type": "stream",
          "name": "stdout",
          "text": [
            "PyXhon language\n"
          ]
        }
      ]
    },
    {
      "cell_type": "code",
      "source": [
        "x = input(\"Enter text: \")\n",
        "print(2*x)"
      ],
      "metadata": {
        "colab": {
          "base_uri": "https://localhost:8080/"
        },
        "id": "zmI2v0KmGjKI",
        "outputId": "fae30d47-7bc5-4cef-8e52-b39446ac0ebc"
      },
      "execution_count": null,
      "outputs": [
        {
          "output_type": "stream",
          "name": "stdout",
          "text": [
            "Enter text: dgsgdsgas\n",
            "dgsgdsgasdgsgdsgas\n"
          ]
        }
      ]
    },
    {
      "cell_type": "markdown",
      "source": [
        "**Ex 6. from ... import - Python modules / Dodanie modułu/biblioteki**"
      ],
      "metadata": {
        "id": "U-H_Jj5ZtGEW"
      }
    },
    {
      "cell_type": "markdown",
      "source": [
        "https://www.w3schools.com/python/python_modules.asp"
      ],
      "metadata": {
        "id": "zDKEVKplJVoL"
      }
    },
    {
      "cell_type": "code",
      "source": [
        "import datetime\n",
        "\n",
        "this_minute = datetime.datetime.today().minute\n",
        "print(this_minute)"
      ],
      "metadata": {
        "colab": {
          "base_uri": "https://localhost:8080/"
        },
        "id": "YecCVC_9FxBi",
        "outputId": "75dea1bd-41d6-4547-a6e4-334a6fa4773a"
      },
      "execution_count": null,
      "outputs": [
        {
          "output_type": "stream",
          "name": "stdout",
          "text": [
            "44\n"
          ]
        }
      ]
    },
    {
      "cell_type": "code",
      "execution_count": null,
      "metadata": {
        "id": "4YnTVoa5r0aC",
        "colab": {
          "base_uri": "https://localhost:8080/"
        },
        "outputId": "49afeb36-a4bd-432f-b962-606d1a4be345"
      },
      "outputs": [
        {
          "output_type": "stream",
          "name": "stdout",
          "text": [
            "15\n"
          ]
        }
      ],
      "source": [
        "from datetime import datetime\n",
        "\n",
        "this_minute = datetime.today().minute\n",
        "print(this_minute)"
      ]
    },
    {
      "cell_type": "markdown",
      "source": [
        "**Ex 7. from ... import ... as - Python modules / Dodanie modułu/biblioteki**"
      ],
      "metadata": {
        "id": "ZK0gdInYtEJT"
      }
    },
    {
      "cell_type": "code",
      "source": [
        "from datetime import datetime as dt\n",
        "\n",
        "this_minute = dt.today().minute\n",
        "print(this_minute)"
      ],
      "metadata": {
        "id": "YEr2p_g3tLvZ",
        "colab": {
          "base_uri": "https://localhost:8080/"
        },
        "outputId": "2fd28e64-ded4-4c96-e931-ea1149f722ce"
      },
      "execution_count": null,
      "outputs": [
        {
          "output_type": "stream",
          "name": "stdout",
          "text": [
            "44\n"
          ]
        }
      ]
    },
    {
      "cell_type": "code",
      "source": [
        "from datetime import datetime as dt\n",
        "now: datetime = dt.now()\n",
        "print(f'{now:%x}')\n",
        "print(f'{now:%c}')\n",
        "print(f'{now:%H:%M:%S}')"
      ],
      "metadata": {
        "colab": {
          "base_uri": "https://localhost:8080/"
        },
        "id": "3vuPA-4BTtfk",
        "outputId": "dadbbe61-9a96-4538-d6cb-a48bc4de55e3"
      },
      "execution_count": null,
      "outputs": [
        {
          "output_type": "stream",
          "name": "stdout",
          "text": [
            "03/17/25\n",
            "Mon Mar 17 08:44:54 2025\n",
            "08:44:54\n"
          ]
        }
      ]
    },
    {
      "cell_type": "markdown",
      "source": [
        "**Ex 8. Conditions and If statements / Instrukcja warunkowa (if ... elif ... else)**"
      ],
      "metadata": {
        "id": "k7fEbV67VaK3"
      }
    },
    {
      "cell_type": "markdown",
      "source": [
        "https://www.w3schools.com/python/python_conditions.asp"
      ],
      "metadata": {
        "id": "oZX3Bi2RJ0fn"
      }
    },
    {
      "cell_type": "code",
      "source": [
        "import time as t\n",
        "\n",
        "today = t.strftime(\"%A\")\n",
        "if today == \"Saturday\":\n",
        "  print(\"Python course\")\n",
        "elif today == \"Sunday\":\n",
        "  print(\"No Python classes\")\n",
        "else:\n",
        "  print(\"No classes at all\")\n",
        "\n",
        "if today != \"Sonnabend\":\n",
        "  print(\"Please use English\")\n",
        "\n",
        "a = 5\n",
        "b = 10\n",
        "if a>3 and b<8:\n",
        "  print(\"True\")\n",
        "else:\n",
        "  print(\"False\")\n",
        "\n",
        "if a>3 or b<8:\n",
        "  print(\"True\")\n",
        "else:\n",
        "  print(\"False\")\n",
        "\n",
        "found = False\n",
        "if not found:\n",
        "  print(\"It is working\")\n",
        "else:\n",
        "  print(\"No it isn't\")\n",
        "\n"
      ],
      "metadata": {
        "colab": {
          "base_uri": "https://localhost:8080/"
        },
        "id": "-ha_C_fc-uhf",
        "outputId": "82c2b720-5685-4bb2-a56b-eed95761e908"
      },
      "execution_count": null,
      "outputs": [
        {
          "output_type": "stream",
          "name": "stdout",
          "text": [
            "No classes at all\n",
            "Please use English\n",
            "False\n",
            "True\n",
            "It is working\n"
          ]
        }
      ]
    },
    {
      "cell_type": "markdown",
      "source": [
        "**Ex 9. Python For Loops / Pętla for**"
      ],
      "metadata": {
        "id": "C12-sy6VLeZh"
      }
    },
    {
      "cell_type": "markdown",
      "source": [
        "https://www.w3schools.com/python/python_for_loops.asp"
      ],
      "metadata": {
        "id": "82IBNgz0J3kZ"
      }
    },
    {
      "cell_type": "code",
      "source": [
        "for i in [1,2,3,5]:\n",
        "    print(i)\n",
        "print(\"----------\")\n",
        "\n",
        "for i in \"Python\":\n",
        "    print(i)\n",
        "print(\"----------\")\n",
        "\n",
        "for i in range(4):\n",
        "  print(i)\n",
        "  print(\"Python\")\n",
        "print(\"----------\")"
      ],
      "metadata": {
        "colab": {
          "base_uri": "https://localhost:8080/"
        },
        "id": "NWiI-vtD-7VU",
        "outputId": "4dc10563-f4eb-4d3f-d80f-3af0c0d4bc40"
      },
      "execution_count": null,
      "outputs": [
        {
          "output_type": "stream",
          "name": "stdout",
          "text": [
            "1\n",
            "2\n",
            "3\n",
            "5\n",
            "----------\n",
            "P\n",
            "y\n",
            "t\n",
            "h\n",
            "o\n",
            "n\n",
            "----------\n",
            "0\n",
            "Python\n",
            "1\n",
            "Python\n",
            "2\n",
            "Python\n",
            "3\n",
            "Python\n",
            "----------\n"
          ]
        }
      ]
    },
    {
      "cell_type": "code",
      "source": [
        "print(range(4))\n",
        "\n",
        "print(list(range(4)))\n",
        "\n",
        "print(list(range(4,10)))\n",
        "\n",
        "print(list(range(0,8,2)))\n",
        "\n",
        "print(list(range(8,0,-2)))"
      ],
      "metadata": {
        "colab": {
          "base_uri": "https://localhost:8080/"
        },
        "id": "inoXcRDC_BUv",
        "outputId": "94107fea-ce94-4657-c9df-55d8f8879ace"
      },
      "execution_count": null,
      "outputs": [
        {
          "output_type": "stream",
          "name": "stdout",
          "text": [
            "range(0, 4)\n",
            "[0, 1, 2, 3]\n",
            "[4, 5, 6, 7, 8, 9]\n",
            "[0, 2, 4, 6]\n",
            "[8, 6, 4, 2]\n"
          ]
        }
      ]
    },
    {
      "cell_type": "code",
      "source": [
        "items = ['a','b','c','d','e']\n",
        "\n",
        "for item in items:\n",
        "  if item == 'b':\n",
        "    items.remove('b')   # ['a','c','d','e']\n",
        "  else:\n",
        "    print(item)\n"
      ],
      "metadata": {
        "id": "p_1_7gOYP7aP",
        "colab": {
          "base_uri": "https://localhost:8080/"
        },
        "outputId": "1fb53ca5-0e48-479d-e4da-25d32b57b982"
      },
      "execution_count": null,
      "outputs": [
        {
          "output_type": "stream",
          "name": "stdout",
          "text": [
            "a\n",
            "d\n",
            "e\n"
          ]
        }
      ]
    },
    {
      "cell_type": "code",
      "source": [
        "items = ['a','b','c','d','e']\n",
        "new_items = []\n",
        "\n",
        "for item in items:\n",
        "  if item == 'b':\n",
        "    continue\n",
        "  else:\n",
        "    print(item)\n",
        "    new_items.append(item)"
      ],
      "metadata": {
        "colab": {
          "base_uri": "https://localhost:8080/"
        },
        "id": "aKHvKGMQQYwN",
        "outputId": "330556d7-81d2-449a-b595-77945e37f673"
      },
      "execution_count": null,
      "outputs": [
        {
          "output_type": "stream",
          "name": "stdout",
          "text": [
            "a\n",
            "c\n",
            "d\n",
            "e\n"
          ]
        }
      ]
    },
    {
      "cell_type": "markdown",
      "source": [
        "**Ex 10. The while loop / Pętla while**"
      ],
      "metadata": {
        "id": "vA0vX4HZLw-m"
      }
    },
    {
      "cell_type": "markdown",
      "source": [
        "https://www.w3schools.com/python/python_while_loops.asp"
      ],
      "metadata": {
        "id": "508RNT7VKCsi"
      }
    },
    {
      "cell_type": "code",
      "source": [
        "# while\n",
        "counter = 0\n",
        "\n",
        "while counter < 3:\n",
        "    print(\"Inside while\")\n",
        "    counter += 1\n",
        "else:\n",
        "    print(\"Inside else\")\n",
        "\n",
        "# do-while\n",
        "while True:\n",
        "    number = int(input(\"Enter a positive number: \"))\n",
        "    if number > 0:\n",
        "        print(\"OK\")\n",
        "        break\n",
        "    print('Negative number')\n",
        "\n",
        "# pass\n",
        "while int(input(\"Enter a number geater than 10: \")) <= 10:\n",
        "  pass\n",
        "print(\"Ok\")"
      ],
      "metadata": {
        "id": "Nh5WeU53_Lb1"
      },
      "execution_count": null,
      "outputs": []
    },
    {
      "cell_type": "markdown",
      "source": [
        "**Ex 11. match-case**"
      ],
      "metadata": {
        "id": "SDi0yG9rMGR9"
      }
    },
    {
      "cell_type": "code",
      "source": [
        "def weekday(n):\n",
        "   match n:\n",
        "      case 0: return \"Monday\"\n",
        "      case 1: return \"Tuesday\"\n",
        "      case 2: return \"Wednesday\"\n",
        "      case 3: return \"Thursday\"\n",
        "      case 4: return \"Friday\"\n",
        "      case 5: return \"Saturday\"\n",
        "      case 6: return \"Sunday\"\n",
        "      case _: return \"Invalid day number\"\n",
        "\n",
        "print(weekday(3))\n",
        "print(weekday(6))\n",
        "print(weekday(7))"
      ],
      "metadata": {
        "id": "gRZGBXVM_OYa",
        "colab": {
          "base_uri": "https://localhost:8080/"
        },
        "outputId": "ec130f63-4069-4908-a102-03240adfe14c"
      },
      "execution_count": null,
      "outputs": [
        {
          "output_type": "stream",
          "name": "stdout",
          "text": [
            "Thursday\n",
            "Sunday\n",
            "Invalid day number\n"
          ]
        }
      ]
    },
    {
      "cell_type": "markdown",
      "source": [
        "**Ex 12. Binary conversion / Reprezentacja binarna**"
      ],
      "metadata": {
        "id": "KplAnpblMXXF"
      }
    },
    {
      "cell_type": "code",
      "source": [
        "x = 0\n",
        "for i in range(10):\n",
        "  x += 0.1\n",
        "print(x==1)\n",
        "print(x, '==', 10*0.1)"
      ],
      "metadata": {
        "colab": {
          "base_uri": "https://localhost:8080/"
        },
        "id": "k9QOhzPCOwQE",
        "outputId": "89937445-35fe-41bf-90d5-130b96f5a52d"
      },
      "execution_count": null,
      "outputs": [
        {
          "output_type": "stream",
          "name": "stdout",
          "text": [
            "False\n",
            "0.9999999999999999 == 1.0\n"
          ]
        }
      ]
    },
    {
      "cell_type": "markdown",
      "source": [
        "**Ex 13. List / Lista**"
      ],
      "metadata": {
        "id": "wdsV-MI8Ow6W"
      }
    },
    {
      "cell_type": "markdown",
      "source": [
        "https://www.w3schools.com/python/python_lists.asp"
      ],
      "metadata": {
        "id": "Aglvp-_aKktT"
      }
    },
    {
      "cell_type": "code",
      "source": [
        "temps = [ 0.0, 100.0, -17.78, 27.5, 37.78, 7.39 ]\n",
        "print(temps)\n",
        "car_details = [ 'Kia', 'Sportage', 1.6, 3200]\n",
        "print(car_details)\n",
        "list_of_lists = [ [ 1, 2, 3], ['a', 'b', 'c' ], [ 'One','Two','Three' ] ]\n",
        "print(list_of_lists)"
      ],
      "metadata": {
        "colab": {
          "base_uri": "https://localhost:8080/"
        },
        "id": "8O0StvRO_RdY",
        "outputId": "43e7664e-ef47-48d4-f4b4-83f962144b13"
      },
      "execution_count": null,
      "outputs": [
        {
          "output_type": "stream",
          "name": "stdout",
          "text": [
            "[0.0, 100.0, -17.78, 27.5, 37.78, 7.39]\n",
            "['Kia', 'Sportage', 1.6, 3200]\n",
            "[[1, 2, 3], ['a', 'b', 'c'], ['One', 'Two', 'Three']]\n"
          ]
        }
      ]
    },
    {
      "cell_type": "code",
      "source": [
        "list_1 = [1,2,3]\n",
        "list_2 = [4,5,6,7,8]\n",
        "\n",
        "print(list_1 + list_2)\n",
        "max(list_2)\n",
        "print(len(list_1))\n",
        "print(list_1[0])\n",
        "list_1[0] = 10    # mutability\n",
        "print(list_1)\n",
        "print(list_2[-1])"
      ],
      "metadata": {
        "colab": {
          "base_uri": "https://localhost:8080/"
        },
        "id": "s3wkxFgsraOW",
        "outputId": "78fa7fd3-be4d-4a89-80e8-87cc300e43a9"
      },
      "execution_count": null,
      "outputs": [
        {
          "output_type": "stream",
          "name": "stdout",
          "text": [
            "[1, 2, 3, 4, 5, 6, 7, 8]\n",
            "3\n",
            "1\n",
            "[10, 2, 3]\n",
            "8\n"
          ]
        }
      ]
    },
    {
      "cell_type": "code",
      "source": [
        "vowels = ['a', 'e', 'i', 'o', 'u']\n",
        "word = input(\"Write a word: \")\n",
        "found = []\n",
        "for letter in word:\n",
        "    if letter in vowels:\n",
        "        if letter not in found:\n",
        "            found.append(letter)\n",
        "\n",
        "for vowel in found:\n",
        "    print(vowel)"
      ],
      "metadata": {
        "colab": {
          "base_uri": "https://localhost:8080/"
        },
        "id": "hZ4tD-rr_U_z",
        "outputId": "3b522daf-40ba-47bb-d441-0c92384649a2"
      },
      "execution_count": null,
      "outputs": [
        {
          "output_type": "stream",
          "name": "stdout",
          "text": [
            "Write a word: rherhraggag\n",
            "e\n",
            "a\n"
          ]
        }
      ]
    },
    {
      "cell_type": "markdown",
      "source": [
        "**Ex 14. Remove list items / Lista - usuwanie elementów**"
      ],
      "metadata": {
        "id": "004QiFdoawgp"
      }
    },
    {
      "cell_type": "code",
      "source": [
        "numbers = [1,2,4,8]\n",
        "print(numbers)\n",
        "\n",
        "# deleting an element with a specific value\n",
        "numbers.remove(4)\n",
        "print(numbers)\n",
        "\n",
        "# deleting an element with a specific index\n",
        "del_num = numbers.pop(1)\n",
        "print(numbers)\n",
        "print(del_num)\n",
        "\n",
        "del numbers[0]\n",
        "print(numbers)"
      ],
      "metadata": {
        "colab": {
          "base_uri": "https://localhost:8080/"
        },
        "id": "GbmrpkzY_Xi3",
        "outputId": "420005cd-ed4d-4f02-b6d6-f6afca7781fc"
      },
      "execution_count": null,
      "outputs": [
        {
          "output_type": "stream",
          "name": "stdout",
          "text": [
            "[1, 2, 4, 8]\n",
            "[1, 2, 8]\n",
            "[1, 8]\n",
            "2\n",
            "[8]\n"
          ]
        }
      ]
    },
    {
      "cell_type": "code",
      "source": [
        "# The id() function returns a unique id for the specified object.\n",
        "list_1 = [1,2,3]\n",
        "list_2 = list_1[:]\n",
        "print(id(list_1))\n",
        "print(id(list_2))\n",
        "\n",
        "list_1.append(4)\n",
        "list_2.append(4)\n",
        "print(id(list_1))\n",
        "print(id(list_2))\n",
        "\n",
        "list_1.clear()\n",
        "list_2 = []\n",
        "print(id(list_1))\n",
        "print(id(list_2))"
      ],
      "metadata": {
        "colab": {
          "base_uri": "https://localhost:8080/"
        },
        "id": "z07upoIH6Wed",
        "outputId": "fbdfeb10-0a6b-4395-b1bc-0716c2c67d20"
      },
      "execution_count": null,
      "outputs": [
        {
          "output_type": "stream",
          "name": "stdout",
          "text": [
            "136850421440192\n",
            "136850415830592\n",
            "136850421440192\n",
            "136850415830592\n",
            "136850421440192\n",
            "136850415831104\n"
          ]
        }
      ]
    },
    {
      "cell_type": "markdown",
      "source": [
        "**Ex 15. Add list items / Lista - dodawanie elementów**"
      ],
      "metadata": {
        "id": "-v0tZzJCa2I5"
      }
    },
    {
      "cell_type": "code",
      "source": [
        "numbers = []\n",
        "print(len(numbers))\n",
        "\n",
        "numbers.append(10)\n",
        "print(numbers)\n",
        "\n",
        "numbers = [1,2,3,4]\n",
        "print(numbers)\n",
        "\n",
        "# extension of the list of objects\n",
        "numbers.extend([5,6])\n",
        "print(numbers)\n",
        "\n",
        "numbers.extend([[20,21],[31,32]])\n",
        "print(numbers)\n",
        "\n",
        "# extension of object (5) inserted BEFORE index (0)\n",
        "numbers.insert(0,5)\n",
        "print(numbers)\n",
        "\n",
        "numbers.insert(1,25)\n",
        "print(numbers)"
      ],
      "metadata": {
        "colab": {
          "base_uri": "https://localhost:8080/"
        },
        "id": "N8OjHywla21M",
        "outputId": "769b9988-893e-4d15-fbcb-6cb8de60167f"
      },
      "execution_count": null,
      "outputs": [
        {
          "output_type": "stream",
          "name": "stdout",
          "text": [
            "0\n",
            "[10]\n",
            "[1, 2, 3, 4]\n",
            "[1, 2, 3, 4, 5, 6]\n",
            "[1, 2, 3, 4, 5, 6, [20, 21], [31, 32]]\n",
            "[5, 1, 2, 3, 4, 5, 6, [20, 21], [31, 32]]\n",
            "[5, 25, 1, 2, 3, 4, 5, 6, [20, 21], [31, 32]]\n"
          ]
        }
      ]
    },
    {
      "cell_type": "code",
      "source": [
        "numbers = [1,2,3,4]\n",
        "print(numbers)\n",
        "\n",
        "numbers.append([5,6])\n",
        "print(numbers)"
      ],
      "metadata": {
        "colab": {
          "base_uri": "https://localhost:8080/"
        },
        "id": "MP7C_XbU-_w_",
        "outputId": "5325e9c0-2ee8-4cb7-ae0f-290c2c59d7ad"
      },
      "execution_count": null,
      "outputs": [
        {
          "output_type": "stream",
          "name": "stdout",
          "text": [
            "[1, 2, 3, 4]\n",
            "[1, 2, 3, 4, [5, 6]]\n"
          ]
        }
      ]
    },
    {
      "cell_type": "code",
      "source": [
        "#In Python everythins is an object\n",
        "numbers = [1,2,3,4]\n",
        "print(numbers)\n",
        "numbers = numbers.append(100)\n",
        "print(numbers)"
      ],
      "metadata": {
        "colab": {
          "base_uri": "https://localhost:8080/"
        },
        "id": "IpXnejFC9vxy",
        "outputId": "7275d1bc-9b0a-41d5-c646-e210c03a45f5"
      },
      "execution_count": null,
      "outputs": [
        {
          "output_type": "stream",
          "name": "stdout",
          "text": [
            "[1, 2, 3, 4]\n",
            "None\n"
          ]
        }
      ]
    },
    {
      "cell_type": "markdown",
      "source": [
        "**Ex 16. Copy a list / Lista - kopiowanie**"
      ],
      "metadata": {
        "id": "KGpgubndbtC6"
      }
    },
    {
      "cell_type": "code",
      "source": [
        "numbers = list(range(10))\n",
        "numbers2 = numbers          # alias, copy.deepcopy\n",
        "numbers3 = numbers.copy()\n",
        "print(numbers)\n",
        "print(numbers2)\n",
        "print(numbers3)\n",
        "\n",
        "numbers.append(100)\n",
        "print(numbers)\n",
        "print(numbers2)\n",
        "print(numbers3)"
      ],
      "metadata": {
        "colab": {
          "base_uri": "https://localhost:8080/"
        },
        "id": "RZtDKBEobtV9",
        "outputId": "21b68112-50a2-4431-ccf1-a2390a3a8282",
        "collapsed": true
      },
      "execution_count": null,
      "outputs": [
        {
          "output_type": "stream",
          "name": "stdout",
          "text": [
            "[0, 1, 2, 3, 4, 5, 6, 7, 8, 9]\n",
            "[0, 1, 2, 3, 4, 5, 6, 7, 8, 9]\n",
            "[0, 1, 2, 3, 4, 5, 6, 7, 8, 9]\n",
            "[0, 1, 2, 3, 4, 5, 6, 7, 8, 9, 100]\n",
            "[0, 1, 2, 3, 4, 5, 6, 7, 8, 9, 100]\n",
            "[0, 1, 2, 3, 4, 5, 6, 7, 8, 9]\n"
          ]
        }
      ]
    },
    {
      "cell_type": "code",
      "source": [
        "numbers = list(range(10))\n",
        "numbers2 = numbers[:]\n",
        "numbers2.append(100)\n",
        "print(numbers)\n",
        "print(numbers2)"
      ],
      "metadata": {
        "colab": {
          "base_uri": "https://localhost:8080/"
        },
        "id": "yp9qc7aK7mwG",
        "outputId": "17ba8ba2-6ded-417c-f7a8-c79700f0fd3a"
      },
      "execution_count": null,
      "outputs": [
        {
          "output_type": "stream",
          "name": "stdout",
          "text": [
            "[0, 1, 2, 3, 4, 5, 6, 7, 8, 9]\n",
            "[0, 1, 2, 3, 4, 5, 6, 7, 8, 9, 100]\n"
          ]
        }
      ]
    },
    {
      "cell_type": "markdown",
      "source": [
        "**Ex 17. List - slicing / Lista - wycinki**"
      ],
      "metadata": {
        "id": "niukPf-IcNNh"
      }
    },
    {
      "cell_type": "code",
      "source": [
        "s_letters = \"AbCdEfGh\"\n",
        "letters = list(s_letters)\n",
        "print(s_letters)\n",
        "print(letters)\n",
        "\n",
        "print(letters[0])\n",
        "print(letters[2])\n",
        "print(letters[-1])\n",
        "print(letters[-3])\n",
        "\n",
        "print(letters[3:])\n",
        "print(letters[:2])\n",
        "print(letters[::2])\n",
        "print(letters[1:3])\n",
        "print(letters[0:7:2])\n",
        "\n",
        "for ch in letters:\n",
        "    print('\\t',ch)\n",
        "\n",
        "for ch in letters[0:7:2]:\n",
        "    print('\\t \\t',ch)"
      ],
      "metadata": {
        "colab": {
          "base_uri": "https://localhost:8080/"
        },
        "id": "CCEnTbDu_XbO",
        "outputId": "97b79afc-d7a7-46ed-b842-cc69388ae490"
      },
      "execution_count": null,
      "outputs": [
        {
          "output_type": "stream",
          "name": "stdout",
          "text": [
            "AbCdEfGh\n",
            "['A', 'b', 'C', 'd', 'E', 'f', 'G', 'h']\n",
            "A\n",
            "C\n",
            "h\n",
            "f\n",
            "['d', 'E', 'f', 'G', 'h']\n",
            "['A', 'b']\n",
            "['A', 'C', 'E', 'G']\n",
            "['b', 'C']\n",
            "['A', 'C', 'E', 'G']\n",
            "\t A\n",
            "\t b\n",
            "\t C\n",
            "\t d\n",
            "\t E\n",
            "\t f\n",
            "\t G\n",
            "\t h\n",
            "\t \t A\n",
            "\t \t C\n",
            "\t \t E\n",
            "\t \t G\n"
          ]
        }
      ]
    },
    {
      "cell_type": "code",
      "source": [
        "my_list = [1,3,5,7]\n",
        "my_list = [i+1 for i in my_list]\n",
        "print(my_list)\n",
        "\n",
        "my_list = [1,3,4,5,7,8]\n",
        "my_list = [i for i in my_list if i % 2 == 0]\n",
        "print(my_list)\n",
        "\n",
        "my_list = [1,3,4,5,7,8]\n",
        "my_list = ['Even' if i%2 == 0 else 'Odd' for i in my_list]\n",
        "print(my_list)\n",
        "\n",
        "my_list = [1,3,4,5,7,8]\n",
        "def func(i):\n",
        "    if i % 2 == 0: return 'Even'\n",
        "    else: return 'Odd'\n",
        "new_list = [func(i) for i in my_list]\n",
        "print(new_list)"
      ],
      "metadata": {
        "colab": {
          "base_uri": "https://localhost:8080/"
        },
        "id": "qboQ2Fs7_bcE",
        "outputId": "fb9d2f3c-f36f-4a98-9804-1aaf3136c0e6"
      },
      "execution_count": null,
      "outputs": [
        {
          "output_type": "stream",
          "name": "stdout",
          "text": [
            "[2, 4, 6, 8]\n",
            "[4, 8]\n",
            "['Odd', 'Odd', 'Even', 'Odd', 'Odd', 'Even']\n",
            "['Odd', 'Odd', 'Even', 'Odd', 'Odd', 'Even']\n"
          ]
        }
      ]
    },
    {
      "cell_type": "code",
      "source": [
        "my_list = list(range(4))\n",
        "print(my_list)\n",
        "for l in my_list:\n",
        "  my_list = my_list + my_list\n",
        "  print(my_list)"
      ],
      "metadata": {
        "colab": {
          "base_uri": "https://localhost:8080/"
        },
        "id": "DEI89_aY5kR1",
        "outputId": "7464136d-9fbe-4e95-e80d-0bc2ea3da33d"
      },
      "execution_count": null,
      "outputs": [
        {
          "output_type": "stream",
          "name": "stdout",
          "text": [
            "[0, 1, 2, 3]\n",
            "[0, 1, 2, 3, 0, 1, 2, 3]\n",
            "[0, 1, 2, 3, 0, 1, 2, 3, 0, 1, 2, 3, 0, 1, 2, 3]\n",
            "[0, 1, 2, 3, 0, 1, 2, 3, 0, 1, 2, 3, 0, 1, 2, 3, 0, 1, 2, 3, 0, 1, 2, 3, 0, 1, 2, 3, 0, 1, 2, 3]\n",
            "[0, 1, 2, 3, 0, 1, 2, 3, 0, 1, 2, 3, 0, 1, 2, 3, 0, 1, 2, 3, 0, 1, 2, 3, 0, 1, 2, 3, 0, 1, 2, 3, 0, 1, 2, 3, 0, 1, 2, 3, 0, 1, 2, 3, 0, 1, 2, 3, 0, 1, 2, 3, 0, 1, 2, 3, 0, 1, 2, 3, 0, 1, 2, 3]\n"
          ]
        }
      ]
    },
    {
      "cell_type": "code",
      "source": [
        "# String to list\n",
        "s = \"This is Python course\"\n",
        "l = list(s)\n",
        "print(l)\n",
        "l = s.split(' ')\n",
        "print(l)"
      ],
      "metadata": {
        "colab": {
          "base_uri": "https://localhost:8080/"
        },
        "id": "Zg9SeeOKAhoM",
        "outputId": "9d3c0ca3-cc76-478d-d3ff-77834f6756c2"
      },
      "execution_count": null,
      "outputs": [
        {
          "output_type": "stream",
          "name": "stdout",
          "text": [
            "['T', 'h', 'i', 's', ' ', 'i', 's', ' ', 'P', 'y', 't', 'h', 'o', 'n', ' ', 'c', 'o', 'u', 'r', 's', 'e']\n",
            "['This', 'is', 'Python', 'course']\n"
          ]
        }
      ]
    },
    {
      "cell_type": "code",
      "source": [
        "letters = list(\"AbCdEfGh\")\n",
        "print(letters)\n",
        "\n",
        "a = ''.join(letters)\n",
        "print(f'a = {a}')\n",
        "b = '_'.join(letters)\n",
        "print(f'b = {b}')\n",
        "c = '**'.join(letters)\n",
        "print(f'c = {c}')\n",
        "print(''.join(letters[-3:]))\n",
        "print(''.join(letters[::-1]))"
      ],
      "metadata": {
        "colab": {
          "base_uri": "https://localhost:8080/"
        },
        "id": "idL_H34iCH3Y",
        "outputId": "4c277b95-6793-4cc5-8638-b5b30bb42a3e"
      },
      "execution_count": null,
      "outputs": [
        {
          "output_type": "stream",
          "name": "stdout",
          "text": [
            "['A', 'b', 'C', 'd', 'E', 'f', 'G', 'h']\n",
            "a = AbCdEfGh\n",
            "b = A_b_C_d_E_f_G_h\n",
            "c = A**b**C**d**E**f**G**h\n",
            "fGh\n",
            "hGfEdCbA\n"
          ]
        }
      ]
    },
    {
      "cell_type": "code",
      "source": [
        "print(''.join([1,2,3]))"
      ],
      "metadata": {
        "colab": {
          "base_uri": "https://localhost:8080/",
          "height": 143
        },
        "id": "u2cIEadlFPyt",
        "outputId": "92f753f4-d7f0-4595-f65e-f878d40de328"
      },
      "execution_count": null,
      "outputs": [
        {
          "output_type": "error",
          "ename": "TypeError",
          "evalue": "sequence item 0: expected str instance, int found",
          "traceback": [
            "\u001b[0;31m---------------------------------------------------------------------------\u001b[0m",
            "\u001b[0;31mTypeError\u001b[0m                                 Traceback (most recent call last)",
            "\u001b[0;32m<ipython-input-55-e3d3b9826f24>\u001b[0m in \u001b[0;36m<cell line: 0>\u001b[0;34m()\u001b[0m\n\u001b[0;32m----> 1\u001b[0;31m \u001b[0mprint\u001b[0m\u001b[0;34m(\u001b[0m\u001b[0;34m''\u001b[0m\u001b[0;34m.\u001b[0m\u001b[0mjoin\u001b[0m\u001b[0;34m(\u001b[0m\u001b[0;34m[\u001b[0m\u001b[0;36m1\u001b[0m\u001b[0;34m,\u001b[0m\u001b[0;36m2\u001b[0m\u001b[0;34m,\u001b[0m\u001b[0;36m3\u001b[0m\u001b[0;34m]\u001b[0m\u001b[0;34m)\u001b[0m\u001b[0;34m)\u001b[0m\u001b[0;34m\u001b[0m\u001b[0;34m\u001b[0m\u001b[0m\n\u001b[0m",
            "\u001b[0;31mTypeError\u001b[0m: sequence item 0: expected str instance, int found"
          ]
        }
      ]
    },
    {
      "cell_type": "code",
      "source": [
        "l = [4,2,1,19]\n",
        "print(l)\n",
        "l.sort()\n",
        "print(l)\n",
        "l.reverse()\n",
        "print(l)"
      ],
      "metadata": {
        "colab": {
          "base_uri": "https://localhost:8080/"
        },
        "id": "1ebcRBxuKudj",
        "outputId": "c0440879-c458-46f8-8f7a-6a80465bf06a"
      },
      "execution_count": null,
      "outputs": [
        {
          "output_type": "stream",
          "name": "stdout",
          "text": [
            "[4, 2, 1, 19]\n",
            "[1, 2, 4, 19]\n",
            "[19, 4, 2, 1]\n"
          ]
        }
      ]
    },
    {
      "cell_type": "code",
      "source": [
        "l = [4,2,1,19]\n",
        "sorted_l = l.sort()\n",
        "print(f'l = {l}')\n",
        "print(f'sorted_l = {sorted_l}')"
      ],
      "metadata": {
        "colab": {
          "base_uri": "https://localhost:8080/"
        },
        "id": "xfR4fc8LLaaM",
        "outputId": "1b42646c-5644-4e75-eec1-d077b37e7344"
      },
      "execution_count": null,
      "outputs": [
        {
          "output_type": "stream",
          "name": "stdout",
          "text": [
            "l = [1, 2, 4, 19]\n",
            "sorted_l = None\n"
          ]
        }
      ]
    },
    {
      "cell_type": "markdown",
      "source": [
        "**Ex 18. Dictionary / Słownik**"
      ],
      "metadata": {
        "id": "fCUqP29xcwzZ"
      }
    },
    {
      "cell_type": "markdown",
      "source": [
        "https://www.w3schools.com/python/python_dictionaries.asp"
      ],
      "metadata": {
        "id": "ZvSuxX5WLaeD"
      }
    },
    {
      "cell_type": "code",
      "source": [
        "t_dict = {2:100}\n",
        "print(t_dict)"
      ],
      "metadata": {
        "id": "Fib89B58pNzn",
        "colab": {
          "base_uri": "https://localhost:8080/"
        },
        "outputId": "adb36e5b-861e-4596-a3d4-e771808fd3f4"
      },
      "execution_count": null,
      "outputs": [
        {
          "output_type": "stream",
          "name": "stdout",
          "text": [
            "{2: 100}\n"
          ]
        }
      ]
    },
    {
      "cell_type": "code",
      "source": [
        "t_dict = {'number':100}\n",
        "print(t_dict)"
      ],
      "metadata": {
        "id": "-zwt_JcYpzUY",
        "colab": {
          "base_uri": "https://localhost:8080/"
        },
        "outputId": "e2272536-f6ad-4ec5-afd1-264dd21f45b3"
      },
      "execution_count": null,
      "outputs": [
        {
          "output_type": "stream",
          "name": "stdout",
          "text": [
            "{'number': 100}\n"
          ]
        }
      ]
    },
    {
      "cell_type": "code",
      "source": [
        "number_1 = 2\n",
        "t_dict = {(number_1,):['1','2','3']}\n",
        "print(t_dict)"
      ],
      "metadata": {
        "colab": {
          "base_uri": "https://localhost:8080/"
        },
        "id": "hgunLWF8qVqP",
        "outputId": "d52f615b-1f99-43ec-eacb-3cf7c024a1db"
      },
      "execution_count": null,
      "outputs": [
        {
          "output_type": "stream",
          "name": "stdout",
          "text": [
            "{(2,): ['1', '2', '3']}\n"
          ]
        }
      ]
    },
    {
      "cell_type": "code",
      "source": [
        "#key - any immutable object - str,int,float,bool,tuple\n",
        "#key - must be unique\n",
        "number_1 = 2\n",
        "t_dict = {['1','2','3']:(number_1,)}\n",
        "print(t_dict)"
      ],
      "metadata": {
        "colab": {
          "base_uri": "https://localhost:8080/",
          "height": 195
        },
        "id": "MI3iQXtBqlwe",
        "outputId": "6e0cd39b-d00c-4139-fbfa-05d7177751aa"
      },
      "execution_count": null,
      "outputs": [
        {
          "output_type": "error",
          "ename": "TypeError",
          "evalue": "unhashable type: 'list'",
          "traceback": [
            "\u001b[0;31m---------------------------------------------------------------------------\u001b[0m",
            "\u001b[0;31mTypeError\u001b[0m                                 Traceback (most recent call last)",
            "\u001b[0;32m<ipython-input-61-94dbb30da03e>\u001b[0m in \u001b[0;36m<cell line: 0>\u001b[0;34m()\u001b[0m\n\u001b[1;32m      2\u001b[0m \u001b[0;31m#key - must be unique\u001b[0m\u001b[0;34m\u001b[0m\u001b[0;34m\u001b[0m\u001b[0m\n\u001b[1;32m      3\u001b[0m \u001b[0mnumber_1\u001b[0m \u001b[0;34m=\u001b[0m \u001b[0;36m2\u001b[0m\u001b[0;34m\u001b[0m\u001b[0;34m\u001b[0m\u001b[0m\n\u001b[0;32m----> 4\u001b[0;31m \u001b[0mt_dict\u001b[0m \u001b[0;34m=\u001b[0m \u001b[0;34m{\u001b[0m\u001b[0;34m[\u001b[0m\u001b[0;34m'1'\u001b[0m\u001b[0;34m,\u001b[0m\u001b[0;34m'2'\u001b[0m\u001b[0;34m,\u001b[0m\u001b[0;34m'3'\u001b[0m\u001b[0;34m]\u001b[0m\u001b[0;34m:\u001b[0m\u001b[0;34m(\u001b[0m\u001b[0mnumber_1\u001b[0m\u001b[0;34m,\u001b[0m\u001b[0;34m)\u001b[0m\u001b[0;34m}\u001b[0m\u001b[0;34m\u001b[0m\u001b[0;34m\u001b[0m\u001b[0m\n\u001b[0m\u001b[1;32m      5\u001b[0m \u001b[0mprint\u001b[0m\u001b[0;34m(\u001b[0m\u001b[0mt_dict\u001b[0m\u001b[0;34m)\u001b[0m\u001b[0;34m\u001b[0m\u001b[0;34m\u001b[0m\u001b[0m\n",
            "\u001b[0;31mTypeError\u001b[0m: unhashable type: 'list'"
          ]
        }
      ]
    },
    {
      "cell_type": "code",
      "source": [
        "person = {'Name': 'Tom',\n",
        "          'Phone': '123456789',\n",
        "          'Occupation': 'engineer',\n",
        "          'Home planet': 'Earth'}\n",
        "print(person)\n",
        "print(person['Home planet'])\n",
        "\n",
        "person['Age'] = '21'\n",
        "print(person)"
      ],
      "metadata": {
        "id": "wzPWA6-npZgE",
        "colab": {
          "base_uri": "https://localhost:8080/"
        },
        "outputId": "15f6e5e8-9327-49d2-b71a-b1b355c3d5a6"
      },
      "execution_count": null,
      "outputs": [
        {
          "output_type": "stream",
          "name": "stdout",
          "text": [
            "{'Name': 'Tom', 'Phone': '123456789', 'Occupation': 'engineer', 'Home planet': 'Earth'}\n",
            "Earth\n",
            "{'Name': 'Tom', 'Phone': '123456789', 'Occupation': 'engineer', 'Home planet': 'Earth', 'Age': '21'}\n"
          ]
        }
      ]
    },
    {
      "cell_type": "code",
      "source": [
        "#vowels = {'a' : 0, 'e' : 0, 'i' : 0, 'o' : 0, 'u' : 0}\n",
        "vowels = ['a','e','i','o','u']\n",
        "found_vowels ={}\n",
        "word = input(\"Enter Your word: \")\n",
        "for letter in word:\n",
        "    if letter in vowels:\n",
        "        found_vowels.setdefault(letter,0)\n",
        "        found_vowels[letter] += 1\n",
        "\n",
        "#k:v -> key:values / k:v -> klucz:wartość\n",
        "for k, v in sorted(found_vowels.items()):\n",
        "    print(k, 'found', v, 'times')\n",
        "\n",
        "# keys only / tylko klucze\n",
        "for key in person.keys():\n",
        "  print(key.title())\n",
        "\n",
        "# values only / tylko wartości\n",
        "for val in person.values():\n",
        "  print(val.title())\n",
        "\n",
        "del person['Occupation']\n",
        "print(person)\n",
        "\n",
        "print(person.get('Occupation','Key does not exist'))"
      ],
      "metadata": {
        "id": "CLxzGIIn_iDe",
        "colab": {
          "base_uri": "https://localhost:8080/"
        },
        "outputId": "72958e75-0583-4635-e991-7a564cab0ac8"
      },
      "execution_count": null,
      "outputs": [
        {
          "output_type": "stream",
          "name": "stdout",
          "text": [
            "Enter Your word: gdsgsdsgs\n",
            "Name\n",
            "Phone\n",
            "Occupation\n",
            "Home Planet\n",
            "Age\n",
            "Tom\n",
            "123456789\n",
            "Engineer\n",
            "Earth\n",
            "21\n",
            "{'Name': 'Tom', 'Phone': '123456789', 'Home planet': 'Earth', 'Age': '21'}\n",
            "Key does not exist\n"
          ]
        }
      ]
    },
    {
      "cell_type": "code",
      "source": [
        "t_dict = {'Grade_1':'5.0',\n",
        "          'Grade_2':'4.5',\n",
        "          'Grade_3':'4.0'}\n",
        "\n",
        "print('Grade_2' in t_dict)\n",
        "print('5.0' in t_dict)"
      ],
      "metadata": {
        "id": "Hf2ICVESsijx",
        "colab": {
          "base_uri": "https://localhost:8080/"
        },
        "outputId": "5d33dbe7-746c-4b37-dc31-ff719d9e4796"
      },
      "execution_count": null,
      "outputs": [
        {
          "output_type": "stream",
          "name": "stdout",
          "text": [
            "True\n",
            "False\n"
          ]
        }
      ]
    },
    {
      "cell_type": "code",
      "source": [
        "t_dict = {\"quiz_1\":{'q1':[0,1,0,1],'q2':[1,1,1,0],'q3':[0,0,1,0]},\n",
        "          \"quiz_2\":{'q1':[1,1,0,1],'q2':[0,1,0,0],'q3':[1,0,0,0]}}\n",
        "\n",
        "print(t_dict['quiz_1']['q1'][2])"
      ],
      "metadata": {
        "id": "EX6QouWYtbmP",
        "colab": {
          "base_uri": "https://localhost:8080/"
        },
        "outputId": "e0d5e135-ab22-416f-e55f-29b1c9f9692f"
      },
      "execution_count": null,
      "outputs": [
        {
          "output_type": "stream",
          "name": "stdout",
          "text": [
            "0\n"
          ]
        }
      ]
    },
    {
      "cell_type": "markdown",
      "source": [
        "**Ex 19. Set / zbiór**"
      ],
      "metadata": {
        "id": "sNsF7-wfdA9t"
      }
    },
    {
      "cell_type": "markdown",
      "source": [
        "https://www.w3schools.com/python/python_sets.asp"
      ],
      "metadata": {
        "id": "LQGJfB_9LtxL"
      }
    },
    {
      "cell_type": "code",
      "source": [
        "#no duplicates\n",
        "vowels = set('aeiou')\n",
        "print(f'vowels set: {vowels}')\n",
        "\n",
        "word = input(\"Enter Your word: \")\n",
        "\n",
        "sum_sets = vowels.union(set(word))\n",
        "print(sum_sets)\n",
        "\n",
        "diff_sets = vowels.difference(set(word))\n",
        "print(diff_sets)\n",
        "\n",
        "common_part=vowels.intersection(set(word))\n",
        "print(common_part)"
      ],
      "metadata": {
        "colab": {
          "base_uri": "https://localhost:8080/"
        },
        "id": "RktSjAZH_lLK",
        "outputId": "8079bdd9-69e8-4dc8-a288-3b0dec442fba"
      },
      "execution_count": null,
      "outputs": [
        {
          "output_type": "stream",
          "name": "stdout",
          "text": [
            "vowels set: {'i', 'u', 'a', 'e', 'o'}\n",
            "Enter Your word: grharharhrahjrajrej\n",
            "{'i', 'u', 'j', 'g', 'h', 'a', 'e', 'r', 'o'}\n",
            "{'u', 'i', 'o'}\n",
            "{'a', 'e'}\n"
          ]
        }
      ]
    },
    {
      "cell_type": "code",
      "source": [
        "set_a: set[int] = {1, 2, 3}\n",
        "set_b: set[int] = {2, 3, 4}\n",
        "\n",
        "print(set_a - set_b)\n",
        "print(set_b - set_a)"
      ],
      "metadata": {
        "id": "bM9OkWRv8bVM",
        "colab": {
          "base_uri": "https://localhost:8080/"
        },
        "outputId": "47c7e6e6-3318-460c-fac9-84e4378f1460"
      },
      "execution_count": null,
      "outputs": [
        {
          "output_type": "stream",
          "name": "stdout",
          "text": [
            "{1}\n",
            "{4}\n"
          ]
        }
      ]
    },
    {
      "cell_type": "code",
      "source": [
        "set_a: set[int] = {1, 2, 3}\n",
        "set_b: set[int] = {2, 3, 4}\n",
        "\n",
        "print(set_a & set_b)"
      ],
      "metadata": {
        "id": "bM-T94tG9cSp",
        "colab": {
          "base_uri": "https://localhost:8080/"
        },
        "outputId": "d1c6ab8d-1e4f-4793-a055-882c45e5831d"
      },
      "execution_count": null,
      "outputs": [
        {
          "output_type": "stream",
          "name": "stdout",
          "text": [
            "{2, 3}\n"
          ]
        }
      ]
    },
    {
      "cell_type": "code",
      "source": [
        "set_a: set[int] = {1, 2, 3}\n",
        "set_b: set[int] = {2, 3, 4}\n",
        "\n",
        "print(set_a | set_b)"
      ],
      "metadata": {
        "id": "9cqMzTMZ9tMq",
        "colab": {
          "base_uri": "https://localhost:8080/"
        },
        "outputId": "7310a860-9a0c-4f95-9022-50b27aca7e64"
      },
      "execution_count": null,
      "outputs": [
        {
          "output_type": "stream",
          "name": "stdout",
          "text": [
            "{1, 2, 3, 4}\n"
          ]
        }
      ]
    },
    {
      "cell_type": "code",
      "source": [
        "set_a: set[int] = {1, 2, 3}\n",
        "set_b: set[int] = {2, 3, 4}\n",
        "\n",
        "print(set_a ^ set_b)"
      ],
      "metadata": {
        "id": "sLTtvkMJ90bS",
        "colab": {
          "base_uri": "https://localhost:8080/"
        },
        "outputId": "8a39ba94-88f3-42a1-e15a-8ffdbf9481fe"
      },
      "execution_count": null,
      "outputs": [
        {
          "output_type": "stream",
          "name": "stdout",
          "text": [
            "{1, 4}\n"
          ]
        }
      ]
    },
    {
      "cell_type": "code",
      "source": [
        "set_a: set[int] = {1, 2, 3, 4}\n",
        "set_b: set[int] = {1, 2, 3}\n",
        "\n",
        "print(set_a == set_b)\n",
        "print(set_a >= set_b)\n",
        "print(set_a <= set_b)"
      ],
      "metadata": {
        "id": "6RbYLDAu-h36",
        "colab": {
          "base_uri": "https://localhost:8080/"
        },
        "outputId": "fcd852a2-6b59-4292-fa92-00b8763a22e9"
      },
      "execution_count": null,
      "outputs": [
        {
          "output_type": "stream",
          "name": "stdout",
          "text": [
            "False\n",
            "True\n",
            "False\n"
          ]
        }
      ]
    },
    {
      "cell_type": "code",
      "source": [
        "set_a: set[int] = {1, 2, 3}\n",
        "set_b: set[int] = {1, 2, 3, 4}\n",
        "\n",
        "print(set_a == set_b)\n",
        "print(set_a >= set_b)\n",
        "print(set_a <= set_b)"
      ],
      "metadata": {
        "id": "tDD6h4Tl_K_J",
        "colab": {
          "base_uri": "https://localhost:8080/"
        },
        "outputId": "022e0897-c4a5-45c1-8720-6488b5189af7"
      },
      "execution_count": null,
      "outputs": [
        {
          "output_type": "stream",
          "name": "stdout",
          "text": [
            "False\n",
            "False\n",
            "True\n"
          ]
        }
      ]
    },
    {
      "cell_type": "code",
      "source": [
        "set_a: set[int] = {1, 2, 3, 4}\n",
        "set_b: set[int] = {1, 3, 4}\n",
        "\n",
        "set_a.difference_update(set_b)  # set_a -= set_b\n",
        "print(set_a)"
      ],
      "metadata": {
        "colab": {
          "base_uri": "https://localhost:8080/"
        },
        "id": "VjUqzdzy_huq",
        "outputId": "6bc8bbd6-1cb1-4d5b-9a4f-8723728934c4"
      },
      "execution_count": null,
      "outputs": [
        {
          "output_type": "stream",
          "name": "stdout",
          "text": [
            "{2}\n"
          ]
        }
      ]
    },
    {
      "cell_type": "code",
      "source": [
        "set_a: set[int] = {1, 2, 3, 4, 5}\n",
        "\n",
        "set_a.discard(2)\n",
        "print(set_a)\n",
        "set_a.discard(10)\n",
        "print(set_a)\n",
        "\n",
        "try:\n",
        "  set_a.remove(10)\n",
        "  print(set_a)\n",
        "except:\n",
        "  print(f'10 is not in {set_a}')"
      ],
      "metadata": {
        "colab": {
          "base_uri": "https://localhost:8080/"
        },
        "id": "9jgQpU4HB1j7",
        "outputId": "ee3997dd-385b-4887-f31b-a4e09915a787"
      },
      "execution_count": null,
      "outputs": [
        {
          "output_type": "stream",
          "name": "stdout",
          "text": [
            "{1, 3, 4, 5}\n",
            "{1, 3, 4, 5}\n",
            "10 is not in {1, 3, 4, 5}\n"
          ]
        }
      ]
    },
    {
      "cell_type": "markdown",
      "source": [
        "**Ex 20. Tuple / Krotka**"
      ],
      "metadata": {
        "id": "Cyz5lnu2dSn1"
      }
    },
    {
      "cell_type": "markdown",
      "source": [
        "https://www.w3schools.com/python/python_tuples.asp"
      ],
      "metadata": {
        "id": "t992L1zAL30q"
      }
    },
    {
      "cell_type": "code",
      "source": [
        "#tuple vs string\n",
        "t = ('P','y','t','h','o','n')\n",
        "print(t)\n",
        "t = ('Python')\n",
        "print(type(t))\n",
        "t = ('Python',)\n",
        "print(t)\n",
        "print(type(t))\n",
        "\n",
        "# tuple - indexable, immutable(it is not possible to change value of any component)\n",
        "t_1 = (2)\n",
        "print(type(t_1))\n",
        "t_2 = (2,)\n",
        "print(type(t_2))\n",
        "\n",
        "t = (1,'tuple',2,5,6)\n",
        "print(t[0])\n",
        "print(t[1])\n",
        "print(t[1:3])\n",
        "for e in t:\n",
        "  print(e)\n",
        "\n"
      ],
      "metadata": {
        "id": "wovuEbfmcIID"
      },
      "execution_count": null,
      "outputs": []
    },
    {
      "cell_type": "code",
      "source": [
        "# swap variables\n",
        "x = 1\n",
        "y = 2\n",
        "(x,y) = (y,x)\n",
        "print(x)\n",
        "print(y)\n",
        "\n",
        "# return more than 1 value from a function\n",
        "def quotient_and_reminder(x,y):\n",
        "  q = x // y\n",
        "  r = x % y\n",
        "  return (q,r)\n",
        "result = quotient_and_reminder(7,2)\n",
        "print(result[0],result[1])"
      ],
      "metadata": {
        "colab": {
          "base_uri": "https://localhost:8080/"
        },
        "id": "CuPLauGoe_LL",
        "outputId": "8a0631c0-037b-4425-d845-c1136c74b036"
      },
      "execution_count": null,
      "outputs": [
        {
          "output_type": "stream",
          "name": "stdout",
          "text": [
            "2\n",
            "1\n",
            "3 1\n"
          ]
        }
      ]
    },
    {
      "cell_type": "code",
      "source": [
        "(c,v) = (0,0)\n",
        "t=(c,v)\n",
        "c+=1\n",
        "print((c,v))\n",
        "t[0]+=1\n",
        "type((c,v))"
      ],
      "metadata": {
        "colab": {
          "base_uri": "https://localhost:8080/",
          "height": 213
        },
        "id": "Kz5rFQ4Qw1UR",
        "outputId": "3a18ab07-0f33-49f1-e7e8-288bcb442c6a"
      },
      "execution_count": null,
      "outputs": [
        {
          "output_type": "stream",
          "name": "stdout",
          "text": [
            "(1, 0)\n"
          ]
        },
        {
          "output_type": "error",
          "ename": "TypeError",
          "evalue": "'tuple' object does not support item assignment",
          "traceback": [
            "\u001b[0;31m---------------------------------------------------------------------------\u001b[0m",
            "\u001b[0;31mTypeError\u001b[0m                                 Traceback (most recent call last)",
            "\u001b[0;32m<ipython-input-78-48edb34bc3b4>\u001b[0m in \u001b[0;36m<cell line: 0>\u001b[0;34m()\u001b[0m\n\u001b[1;32m      3\u001b[0m \u001b[0mc\u001b[0m\u001b[0;34m+=\u001b[0m\u001b[0;36m1\u001b[0m\u001b[0;34m\u001b[0m\u001b[0;34m\u001b[0m\u001b[0m\n\u001b[1;32m      4\u001b[0m \u001b[0mprint\u001b[0m\u001b[0;34m(\u001b[0m\u001b[0;34m(\u001b[0m\u001b[0mc\u001b[0m\u001b[0;34m,\u001b[0m\u001b[0mv\u001b[0m\u001b[0;34m)\u001b[0m\u001b[0;34m)\u001b[0m\u001b[0;34m\u001b[0m\u001b[0;34m\u001b[0m\u001b[0m\n\u001b[0;32m----> 5\u001b[0;31m \u001b[0mt\u001b[0m\u001b[0;34m[\u001b[0m\u001b[0;36m0\u001b[0m\u001b[0;34m]\u001b[0m\u001b[0;34m+=\u001b[0m\u001b[0;36m1\u001b[0m\u001b[0;34m\u001b[0m\u001b[0;34m\u001b[0m\u001b[0m\n\u001b[0m\u001b[1;32m      6\u001b[0m \u001b[0mtype\u001b[0m\u001b[0;34m(\u001b[0m\u001b[0;34m(\u001b[0m\u001b[0mc\u001b[0m\u001b[0;34m,\u001b[0m\u001b[0mv\u001b[0m\u001b[0;34m)\u001b[0m\u001b[0;34m)\u001b[0m\u001b[0;34m\u001b[0m\u001b[0;34m\u001b[0m\u001b[0m\n",
            "\u001b[0;31mTypeError\u001b[0m: 'tuple' object does not support item assignment"
          ]
        }
      ]
    },
    {
      "cell_type": "markdown",
      "source": [
        "**Ex 21. Function / Funkcje**"
      ],
      "metadata": {
        "id": "WPPjydpXd_Zc"
      }
    },
    {
      "cell_type": "markdown",
      "source": [
        "https://www.w3schools.com/python/python_functions.asp"
      ],
      "metadata": {
        "id": "-jQbuIlUL_bj"
      }
    },
    {
      "cell_type": "code",
      "source": [
        "def search4vowels():\n",
        "    vowels = set('aeiou')\n",
        "    word = input(\"Enter a word in which you want to search for vowels: \")\n",
        "    found = vowels.intersection(set(word))\n",
        "    for vowel in found:\n",
        "        print(vowel)\n",
        "\n",
        "search4vowels()"
      ],
      "metadata": {
        "colab": {
          "base_uri": "https://localhost:8080/"
        },
        "id": "kymfMrQM_lww",
        "outputId": "deb3b3a8-8ef3-4074-f756-9f1993f62092"
      },
      "execution_count": null,
      "outputs": [
        {
          "name": "stdout",
          "output_type": "stream",
          "text": [
            "Enter a word in which you want to search for vowels: fdsfsdfd\n"
          ]
        }
      ]
    },
    {
      "cell_type": "code",
      "source": [
        "def search4vowels(word):\n",
        "    vowels = set('aeiou')\n",
        "    found = vowels.intersection(set(word))\n",
        "    return bool(found)\n",
        "\n",
        "print(search4vowels(\"Test\"))"
      ],
      "metadata": {
        "colab": {
          "base_uri": "https://localhost:8080/"
        },
        "id": "dh-4HSFK_lte",
        "outputId": "8787348f-5a3a-4252-8c78-7cb25573d0ac"
      },
      "execution_count": null,
      "outputs": [
        {
          "output_type": "stream",
          "name": "stdout",
          "text": [
            "True\n"
          ]
        }
      ]
    },
    {
      "cell_type": "code",
      "source": [
        "def search4vowels(word, a = 1):\n",
        "    vowels = set('aeiou')\n",
        "    return vowels.intersection(set(word))\n",
        "\n",
        "print(search4vowels(\"atest\"))"
      ],
      "metadata": {
        "id": "YSVGvte6_lp8",
        "colab": {
          "base_uri": "https://localhost:8080/"
        },
        "outputId": "e6f0ee37-0c96-4933-b206-fd0d2598f79f"
      },
      "execution_count": null,
      "outputs": [
        {
          "output_type": "stream",
          "name": "stdout",
          "text": [
            "{'e', 'a'}\n"
          ]
        }
      ]
    },
    {
      "cell_type": "markdown",
      "source": [
        "**Ex 22. Recursion / Funkcja rekurencyjna**"
      ],
      "metadata": {
        "id": "NdehdkqdeQ_P"
      }
    },
    {
      "cell_type": "code",
      "source": [
        "def change(phrase, position):\n",
        "    if phrase[position].isupper():\n",
        "        phrase = phrase[0:position] + phrase[position].lower() + phrase[position+1:]\n",
        "    else:\n",
        "        phrase = phrase[0:position] + phrase[position].upper() + phrase[position+1:]\n",
        "    if position == len(phrase)-1: return phrase;\n",
        "    return change(phrase, position+1)\n",
        "\n",
        "txt = \"Long long time ago. In the galaxy far away...\"\n",
        "print(change(txt, 0))"
      ],
      "metadata": {
        "colab": {
          "base_uri": "https://localhost:8080/"
        },
        "collapsed": true,
        "id": "xiejdgpt_lG0",
        "outputId": "a1ddfb49-1604-49fb-f211-06f892dbddbc"
      },
      "execution_count": null,
      "outputs": [
        {
          "output_type": "stream",
          "name": "stdout",
          "text": [
            "lONG LONG TIME AGO. iN THE GALAXY FAR AWAY...\n"
          ]
        }
      ]
    },
    {
      "cell_type": "code",
      "source": [
        "def sum_list(t_list):\n",
        "  if len(t_list) == 1:\n",
        "    return t_list[0]\n",
        "  else:\n",
        "    return t_list[0] + sum_list(t_list[1:])\n",
        "\n",
        "t_list = list(range(11))\n",
        "print(t_list)\n",
        "print(sum_list(t_list))"
      ],
      "metadata": {
        "colab": {
          "base_uri": "https://localhost:8080/"
        },
        "id": "G68HSRskTOuW",
        "outputId": "594d6914-d082-4151-e208-bb30b30c5584"
      },
      "execution_count": null,
      "outputs": [
        {
          "output_type": "stream",
          "name": "stdout",
          "text": [
            "[0, 1, 2, 3, 4, 5, 6, 7, 8, 9, 10]\n",
            "55\n"
          ]
        }
      ]
    },
    {
      "cell_type": "code",
      "source": [
        "def rev_list(t_list):\n",
        "  if len(t_list) == 1:\n",
        "    return t_list\n",
        "  else:\n",
        "    return rev_list(t_list[1:]) + [t_list[0]]\n",
        "\n",
        "t_list = [[1,2],[3,4,5],['a','j','k']]\n",
        "print(t_list)\n",
        "print(rev_list(t_list))"
      ],
      "metadata": {
        "colab": {
          "base_uri": "https://localhost:8080/"
        },
        "id": "kFFoz3AqXNni",
        "outputId": "804dae3f-4948-4c2e-8140-ebea7d58fa37"
      },
      "execution_count": null,
      "outputs": [
        {
          "output_type": "stream",
          "name": "stdout",
          "text": [
            "[[1, 2], [3, 4, 5], ['a', 'j', 'k']]\n",
            "[['a', 'j', 'k'], [3, 4, 5], [1, 2]]\n"
          ]
        }
      ]
    },
    {
      "cell_type": "markdown",
      "source": [
        "**Ex 23. Help**"
      ],
      "metadata": {
        "id": "bzPCnLlLQ8ar"
      }
    },
    {
      "cell_type": "code",
      "source": [
        "def search4letters(word:str, letters:str=\"aeiou\") -> set:\n",
        "    \"\"\"\n",
        "    Looks up letters in input word / Wyszukuje litery w słowie wejściowym\n",
        "    If 2nd argument is missing, looks up vowels / W przypadku braku 2 argumentu, wyszukuje samogłoski\n",
        "    \"\"\"\n",
        "    return set(letters).intersection(set(word))\n",
        "\n",
        "help(search4letters)\n",
        "print(search4letters(\"atest\"))"
      ],
      "metadata": {
        "colab": {
          "base_uri": "https://localhost:8080/"
        },
        "collapsed": true,
        "id": "QfBjpVkr_xnq",
        "outputId": "48b95e11-f091-47b8-a7cf-d59e3c0c9230"
      },
      "execution_count": null,
      "outputs": [
        {
          "output_type": "stream",
          "name": "stdout",
          "text": [
            "Help on function search4letters in module __main__:\n",
            "\n",
            "search4letters(word: str, letters: str = 'aeiou') -> set\n",
            "    Looks up letters in input word / Wyszukuje litery w słowie wejściowym\n",
            "    If 2nd argument is missing, looks up vowels / W przypadku braku 2 argumentu, wyszukuje samogłoski\n",
            "\n",
            "{'a', 'e'}\n"
          ]
        }
      ]
    },
    {
      "cell_type": "markdown",
      "source": [
        "**Ex 24. Fuction is an object / Funkcja jest obiektem**"
      ],
      "metadata": {
        "id": "bYyaWVGHSMiT"
      }
    },
    {
      "cell_type": "code",
      "source": [
        "a = print(10)\n",
        "print(a)"
      ],
      "metadata": {
        "colab": {
          "base_uri": "https://localhost:8080/"
        },
        "id": "57NAtwPAbe9p",
        "outputId": "a473e798-5525-47ca-da34-12f3e612f93c"
      },
      "execution_count": 83,
      "outputs": [
        {
          "output_type": "stream",
          "name": "stdout",
          "text": [
            "10\n",
            "None\n"
          ]
        }
      ]
    },
    {
      "cell_type": "code",
      "source": [
        "def is_even(x):\n",
        "  return x%2 == 0\n",
        "\n",
        "new_fun = is_even\n",
        "new_fun(4)"
      ],
      "metadata": {
        "id": "30oqX7Qge12R",
        "collapsed": true,
        "colab": {
          "base_uri": "https://localhost:8080/"
        },
        "outputId": "159a4b88-f93e-4cec-d396-95e65b4ce32a"
      },
      "execution_count": 85,
      "outputs": [
        {
          "output_type": "execute_result",
          "data": {
            "text/plain": [
              "True"
            ]
          },
          "metadata": {},
          "execution_count": 85
        }
      ]
    },
    {
      "cell_type": "code",
      "source": [
        "def calc(op,a,b):\n",
        "  return op(a,b)\n",
        "\n",
        "def add(a,b):\n",
        "  return a+b\n",
        "\n",
        "def mul(a,b):\n",
        "  return a*b\n",
        "\n",
        "print(calc(add,2,3))\n",
        "print(calc(mul,10,2))"
      ],
      "metadata": {
        "id": "pkm8sbR1e4Iv",
        "colab": {
          "base_uri": "https://localhost:8080/"
        },
        "outputId": "67a60b3c-373c-4ca0-edff-019c9a61a8ae"
      },
      "execution_count": 86,
      "outputs": [
        {
          "output_type": "stream",
          "name": "stdout",
          "text": [
            "5\n",
            "20\n"
          ]
        }
      ]
    },
    {
      "cell_type": "code",
      "source": [
        "def add_2(a):\n",
        "  return a+2\n",
        "\n",
        "def add2even(c):\n",
        "  if c%2 == 0:\n",
        "    return add_2(c)\n",
        "  else:\n",
        "    return 'Did not increase'\n",
        "\n",
        "print(add2even(41))\n",
        "print(add2even(4))"
      ],
      "metadata": {
        "colab": {
          "base_uri": "https://localhost:8080/"
        },
        "id": "rpfogMlOe8Wu",
        "outputId": "9b96d132-595c-41df-d426-9c5aec537ea2"
      },
      "execution_count": 87,
      "outputs": [
        {
          "output_type": "stream",
          "name": "stdout",
          "text": [
            "Did not increase\n",
            "6\n"
          ]
        }
      ]
    },
    {
      "cell_type": "markdown",
      "source": [
        "**Ex 25. Functions - access to variables/ Funkcje - dostęp do zmiennych - poziomy widoczności**"
      ],
      "metadata": {
        "id": "2BtUMClueo8F"
      }
    },
    {
      "cell_type": "code",
      "source": [
        "print(\"Function 1\")\n",
        "def f(y):\n",
        "  x = 1\n",
        "  x += 1\n",
        "  print(x)\n",
        "\n",
        "x = 10\n",
        "f(x)\n",
        "print(x)\n",
        "\n",
        "print(\"Function 2\")\n",
        "def g(y):\n",
        "  print(x)\n",
        "  print(x+1)\n",
        "\n",
        "x = 10\n",
        "g(x)\n",
        "print(x)\n",
        "\n",
        "print(\"Function 3\")\n",
        "def h(y):\n",
        "  x += 1\n",
        "\n",
        "x = 10\n",
        "h(x)\n",
        "print(x)"
      ],
      "metadata": {
        "colab": {
          "base_uri": "https://localhost:8080/",
          "height": 454
        },
        "id": "AzwL5unMTYZd",
        "outputId": "7ad3422a-802e-49d7-db87-f1b489107a20"
      },
      "execution_count": 88,
      "outputs": [
        {
          "output_type": "stream",
          "name": "stdout",
          "text": [
            "Function 1\n",
            "2\n",
            "10\n",
            "Function 2\n",
            "10\n",
            "11\n",
            "10\n",
            "Function 3\n"
          ]
        },
        {
          "output_type": "error",
          "ename": "UnboundLocalError",
          "evalue": "cannot access local variable 'x' where it is not associated with a value",
          "traceback": [
            "\u001b[0;31m---------------------------------------------------------------------------\u001b[0m",
            "\u001b[0;31mUnboundLocalError\u001b[0m                         Traceback (most recent call last)",
            "\u001b[0;32m<ipython-input-88-4165df2f98f1>\u001b[0m in \u001b[0;36m<cell line: 0>\u001b[0;34m()\u001b[0m\n\u001b[1;32m     23\u001b[0m \u001b[0;34m\u001b[0m\u001b[0m\n\u001b[1;32m     24\u001b[0m \u001b[0mx\u001b[0m \u001b[0;34m=\u001b[0m \u001b[0;36m10\u001b[0m\u001b[0;34m\u001b[0m\u001b[0;34m\u001b[0m\u001b[0m\n\u001b[0;32m---> 25\u001b[0;31m \u001b[0mh\u001b[0m\u001b[0;34m(\u001b[0m\u001b[0mx\u001b[0m\u001b[0;34m)\u001b[0m\u001b[0;34m\u001b[0m\u001b[0;34m\u001b[0m\u001b[0m\n\u001b[0m\u001b[1;32m     26\u001b[0m \u001b[0mprint\u001b[0m\u001b[0;34m(\u001b[0m\u001b[0mx\u001b[0m\u001b[0;34m)\u001b[0m\u001b[0;34m\u001b[0m\u001b[0;34m\u001b[0m\u001b[0m\n",
            "\u001b[0;32m<ipython-input-88-4165df2f98f1>\u001b[0m in \u001b[0;36mh\u001b[0;34m(y)\u001b[0m\n\u001b[1;32m     20\u001b[0m \u001b[0mprint\u001b[0m\u001b[0;34m(\u001b[0m\u001b[0;34m\"Function 3\"\u001b[0m\u001b[0;34m)\u001b[0m\u001b[0;34m\u001b[0m\u001b[0;34m\u001b[0m\u001b[0m\n\u001b[1;32m     21\u001b[0m \u001b[0;32mdef\u001b[0m \u001b[0mh\u001b[0m\u001b[0;34m(\u001b[0m\u001b[0my\u001b[0m\u001b[0;34m)\u001b[0m\u001b[0;34m:\u001b[0m\u001b[0;34m\u001b[0m\u001b[0;34m\u001b[0m\u001b[0m\n\u001b[0;32m---> 22\u001b[0;31m   \u001b[0mx\u001b[0m \u001b[0;34m+=\u001b[0m \u001b[0;36m1\u001b[0m\u001b[0;34m\u001b[0m\u001b[0;34m\u001b[0m\u001b[0m\n\u001b[0m\u001b[1;32m     23\u001b[0m \u001b[0;34m\u001b[0m\u001b[0m\n\u001b[1;32m     24\u001b[0m \u001b[0mx\u001b[0m \u001b[0;34m=\u001b[0m \u001b[0;36m10\u001b[0m\u001b[0;34m\u001b[0m\u001b[0;34m\u001b[0m\u001b[0m\n",
            "\u001b[0;31mUnboundLocalError\u001b[0m: cannot access local variable 'x' where it is not associated with a value"
          ]
        }
      ]
    },
    {
      "cell_type": "markdown",
      "source": [
        "**Ex 26. Global variables**"
      ],
      "metadata": {
        "id": "EpytZdb9UibZ"
      }
    },
    {
      "cell_type": "markdown",
      "source": [
        "https://www.w3schools.com/python/python_variables_global.asp"
      ],
      "metadata": {
        "id": "j_pBpwd4M0VO"
      }
    },
    {
      "cell_type": "code",
      "source": [
        "def h(y):\n",
        "  global x\n",
        "  x +=1\n",
        "\n",
        "x = 10\n",
        "h(x)\n",
        "print(x)"
      ],
      "metadata": {
        "colab": {
          "base_uri": "https://localhost:8080/"
        },
        "id": "UjrAF91HUi2O",
        "outputId": "e32fdec5-207c-462e-c97d-5ccf49e31d35"
      },
      "execution_count": 89,
      "outputs": [
        {
          "output_type": "stream",
          "name": "stdout",
          "text": [
            "11\n"
          ]
        }
      ]
    },
    {
      "cell_type": "markdown",
      "source": [
        "**Ex 27. Lambda function - anonymous function / Lambda, czyli funkcje anonimowe**"
      ],
      "metadata": {
        "id": "KtEFvzgEYqQA"
      }
    },
    {
      "cell_type": "markdown",
      "source": [
        "https://www.w3schools.com/python/python_lambda.asp"
      ],
      "metadata": {
        "id": "HvArfQwTNIg9"
      }
    },
    {
      "cell_type": "code",
      "source": [
        "def is_even(x):\n",
        "  return x%2 == 0\n",
        "\n",
        "print(is_even(2))\n",
        "\n",
        "print((lambda x: x%2 == 0)(1))"
      ],
      "metadata": {
        "colab": {
          "base_uri": "https://localhost:8080/"
        },
        "id": "9ry1VLzVYuPO",
        "outputId": "8abcdb59-62e4-4edb-bdb4-028f0142aa2e"
      },
      "execution_count": 92,
      "outputs": [
        {
          "output_type": "stream",
          "name": "stdout",
          "text": [
            "True\n",
            "False\n"
          ]
        }
      ]
    },
    {
      "cell_type": "markdown",
      "source": [
        "**Ex 28. Function - variable number of arguments / Funkcje - zmienna ilość parameterów**"
      ],
      "metadata": {
        "id": "Z5BehP01fXTS"
      }
    },
    {
      "cell_type": "code",
      "source": [
        "def vargs_func(*args):\n",
        "    print(args)\n",
        "\n",
        "vargs_func('a','b','c')\n",
        "vargs_func(1,2,3,4,5)"
      ],
      "metadata": {
        "colab": {
          "base_uri": "https://localhost:8080/"
        },
        "id": "Ci3myWQk_xin",
        "outputId": "6e9ce3d9-6ad2-4291-c1df-7e4dbe3c8058"
      },
      "execution_count": null,
      "outputs": [
        {
          "output_type": "stream",
          "name": "stdout",
          "text": [
            "('a', 'b', 'c')\n",
            "(1, 2, 3, 4, 5)\n"
          ]
        }
      ]
    },
    {
      "cell_type": "code",
      "source": [
        "def vargs_func(*args):\n",
        "    print(\"Number of arguments:\",len(args))\n",
        "    for arg in args:\n",
        "        print (\"Value:\",arg)\n",
        "\n",
        "lista = [1,2,3,4]\n",
        "vargs_func(1,lista,2,'xyz',3)"
      ],
      "metadata": {
        "colab": {
          "base_uri": "https://localhost:8080/"
        },
        "id": "Jh5lbYPE_xfz",
        "outputId": "866a574d-36ff-48ae-8f5c-ce99b8c628ec"
      },
      "execution_count": null,
      "outputs": [
        {
          "output_type": "stream",
          "name": "stdout",
          "text": [
            "Liczba przekazanych parametrów: 5\n",
            "Wartość: 1\n",
            "Wartość: [1, 2, 3, 4]\n",
            "Wartość: 2\n",
            "Wartość: xyz\n",
            "Wartość: 3\n"
          ]
        }
      ]
    },
    {
      "cell_type": "code",
      "source": [
        "def vargs_func(**kwargs):\n",
        "    print(\"Number of arguments:\",len(kwargs))\n",
        "    for key, item in kwargs.items():\n",
        "        print (\"Key \", key, \"Value \", item)\n",
        "\n",
        "vargs_func(a=1,b=2,c=3)"
      ],
      "metadata": {
        "colab": {
          "base_uri": "https://localhost:8080/"
        },
        "id": "GK3gdjmm_xdI",
        "outputId": "958017db-91e8-4af4-88fc-14c4f91eae78"
      },
      "execution_count": null,
      "outputs": [
        {
          "output_type": "stream",
          "name": "stdout",
          "text": [
            "Number of arguments: 3\n",
            "Key  a Value  1\n",
            "Key  b Value  2\n",
            "Key  c Value  3\n"
          ]
        }
      ]
    },
    {
      "cell_type": "code",
      "source": [
        "def vargs_func(*args, **kwargs):\n",
        "    print(\"Number of parameters *args:\",len(args))\n",
        "    for arg in args:\n",
        "        print (\"Arg \", arg)\n",
        "\n",
        "    print(\"Number of parameters **kwargs:\",len(kwargs))\n",
        "    for key, item in kwargs.items():\n",
        "        print (\"Key \", key, \"Value \", item)\n",
        "\n",
        "vargs_func(1,2,'x',[1,'a',2],a=1,b=2,c=3)"
      ],
      "metadata": {
        "colab": {
          "base_uri": "https://localhost:8080/"
        },
        "id": "fIKHcjEV_xYM",
        "outputId": "cbc5b037-bf3d-4fbc-feb2-01e1a3ecc855"
      },
      "execution_count": null,
      "outputs": [
        {
          "output_type": "stream",
          "name": "stdout",
          "text": [
            "Number of parameters *args: 4\n",
            "Arg  1\n",
            "Arg  2\n",
            "Arg  x\n",
            "Arg  [1, 'a', 2]\n",
            "Number of parameters **kwargs: 3\n",
            "Key  a Value  1\n",
            "Key  b Value  2\n",
            "Key  c Value  3\n"
          ]
        }
      ]
    },
    {
      "cell_type": "markdown",
      "source": [
        "**Ex 29. Function - list as an agrument / Funkcje - przekazanie listy**"
      ],
      "metadata": {
        "id": "uldY7KVFa9J9"
      }
    },
    {
      "cell_type": "code",
      "source": [
        "t_list = list(range(1,6))\n",
        "print(t_list)\n",
        "\n",
        "def add2list(list):\n",
        "  list[1] = 20\n",
        "  list.append(10)\n",
        "\n",
        "add2list(t_list)\n",
        "print(t_list)\n"
      ],
      "metadata": {
        "colab": {
          "base_uri": "https://localhost:8080/"
        },
        "id": "7UCfrbUma9qd",
        "outputId": "5e23db36-e284-4ca3-b55a-e9cc5b4e62b0"
      },
      "execution_count": 93,
      "outputs": [
        {
          "output_type": "stream",
          "name": "stdout",
          "text": [
            "[1, 2, 3, 4, 5]\n",
            "[1, 20, 3, 4, 5, 10]\n"
          ]
        }
      ]
    },
    {
      "cell_type": "code",
      "source": [
        "t_list = list(range(1,6))\n",
        "print(t_list)\n",
        "\n",
        "def add2list(list):\n",
        "  list[1] = 20\n",
        "  list.append(10)\n",
        "\n",
        "add2list(t_list[:])\n",
        "print(t_list)"
      ],
      "metadata": {
        "colab": {
          "base_uri": "https://localhost:8080/"
        },
        "id": "g_NVBfDldPTD",
        "outputId": "14f1d05e-2e40-4218-b71a-765dec285d0a"
      },
      "execution_count": 94,
      "outputs": [
        {
          "output_type": "stream",
          "name": "stdout",
          "text": [
            "[1, 2, 3, 4, 5]\n",
            "[1, 2, 3, 4, 5]\n"
          ]
        }
      ]
    },
    {
      "cell_type": "code",
      "source": [
        "def print3args(arg1,arg2,arg3):\n",
        "  print(f'Argument 1 = {arg1}')\n",
        "  print(f'Argument 2 = {arg2}')\n",
        "  print(f'Argument 2 = {arg3}')\n",
        "\n",
        "print3args(*['one','two','three'])"
      ],
      "metadata": {
        "colab": {
          "base_uri": "https://localhost:8080/"
        },
        "id": "VAJigVrwfENl",
        "outputId": "58c56158-be58-4c78-daa3-b49425a6dcdc"
      },
      "execution_count": 95,
      "outputs": [
        {
          "output_type": "stream",
          "name": "stdout",
          "text": [
            "Argument 1 = one\n",
            "Argument 2 = two\n",
            "Argument 2 = three\n"
          ]
        }
      ]
    }
  ]
}