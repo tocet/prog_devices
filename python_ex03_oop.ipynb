{
  "nbformat": 4,
  "nbformat_minor": 0,
  "metadata": {
    "colab": {
      "provenance": []
    },
    "kernelspec": {
      "name": "python3",
      "display_name": "Python 3"
    },
    "language_info": {
      "name": "python"
    }
  },
  "cells": [
    {
      "cell_type": "markdown",
      "source": [
        "**Ex 1. Class definition**"
      ],
      "metadata": {
        "id": "eiv-h4-olao_"
      }
    },
    {
      "cell_type": "code",
      "source": [
        "class Point:\n",
        "  def __init__(self,x_val,y_val):\n",
        "    self.x = x_val\n",
        "    self.y = y_val\n",
        "\n",
        "  def distance(self, other):\n",
        "    diff_x = (self.x - other.x) ** 2\n",
        "    diff_y = (self.y - other.y) ** 2\n",
        "    return (diff_x + diff_y) ** 0.5\n",
        "\n",
        "p_1 = Point(3,4)\n",
        "p_2 = Point(1,2)\n",
        "print(p_1.distance(p_2))\n",
        "print(Point.distance(p_1,p_2))"
      ],
      "metadata": {
        "id": "JcYb1yZAz8nA",
        "colab": {
          "base_uri": "https://localhost:8080/"
        },
        "outputId": "4988cc85-67d6-4810-bf70-7089aaee2981"
      },
      "execution_count": null,
      "outputs": [
        {
          "output_type": "stream",
          "name": "stdout",
          "text": [
            "2.8284271247461903\n",
            "2.8284271247461903\n"
          ]
        }
      ]
    },
    {
      "cell_type": "code",
      "source": [
        "class Point:\n",
        "  def __init__(self,x_val,y_val):\n",
        "    self.x = x_val\n",
        "    self.y = y_val\n",
        "\n",
        "  def distance(self, other):\n",
        "    diff_x = (self.x - other.x) ** 2\n",
        "    diff_y = (self.y - other.y) ** 2\n",
        "    return (diff_x + diff_y) ** 0.5\n",
        "\n",
        "class Circle:\n",
        "  def __init__(self,radius,center):\n",
        "    if type(center) != Point:\n",
        "      raise ValueError()\n",
        "    if type(radius) != int:\n",
        "      raise ValueError()\n",
        "    self.radius = radius\n",
        "    self.center = center\n",
        "\n",
        "  def is_inside(self, other_p):\n",
        "    return other_p.distance(self.center) < self.radius\n",
        "\n",
        "  def is_inside_2(self, other_p):\n",
        "    return self.center.distance(other_p) < self.radius\n",
        "\n",
        "center = Point(1,1)\n",
        "c = Circle(5,center)\n",
        "p = Point(3,4)\n",
        "print(c.is_inside(p))\n",
        "print(c.is_inside_2(p))"
      ],
      "metadata": {
        "id": "J7GyVaq00r0p",
        "colab": {
          "base_uri": "https://localhost:8080/"
        },
        "outputId": "98f0b788-5bb0-45cc-f24f-596ca8d92cd8"
      },
      "execution_count": null,
      "outputs": [
        {
          "output_type": "stream",
          "name": "stdout",
          "text": [
            "True\n",
            "True\n"
          ]
        }
      ]
    },
    {
      "cell_type": "code",
      "source": [
        "class Point:\n",
        "  def __init__(self,x_val,y_val):\n",
        "    self.x = x_val\n",
        "    self.y = y_val\n",
        "\n",
        "  def distance(self, other):\n",
        "    diff_x = (self.x - other.x) ** 2\n",
        "    diff_y = (self.y - other.y) ** 2\n",
        "    return (diff_x + diff_y) ** 0.5\n",
        "\n",
        "class Circle:\n",
        "  def __init__(self,radius,center):\n",
        "    if type(center) != Point:\n",
        "      raise ValueError()\n",
        "    if type(radius) != int:\n",
        "      raise ValueError()\n",
        "    self.radius = radius\n",
        "    self.center = center\n",
        "\n",
        "  def is_inside(self, other_p):\n",
        "    return other_p.distance(self.center) < self.radius\n",
        "\n",
        "  def is_inside_2(self, other_p):\n",
        "    return self.center.distance(other_p) < self.radius\n",
        "\n",
        "c = Circle(5,(0,0))"
      ],
      "metadata": {
        "id": "TKUyT28MhOp6",
        "colab": {
          "base_uri": "https://localhost:8080/",
          "height": 301
        },
        "outputId": "8d092eab-b80f-48f3-f71c-fe62fc7d2c3c"
      },
      "execution_count": null,
      "outputs": [
        {
          "output_type": "error",
          "ename": "ValueError",
          "evalue": "",
          "traceback": [
            "\u001b[0;31m---------------------------------------------------------------------------\u001b[0m",
            "\u001b[0;31mValueError\u001b[0m                                Traceback (most recent call last)",
            "\u001b[0;32m<ipython-input-3-3cc9e56fbecc>\u001b[0m in \u001b[0;36m<cell line: 0>\u001b[0;34m()\u001b[0m\n\u001b[1;32m     24\u001b[0m     \u001b[0;32mreturn\u001b[0m \u001b[0mself\u001b[0m\u001b[0;34m.\u001b[0m\u001b[0mcenter\u001b[0m\u001b[0;34m.\u001b[0m\u001b[0mdistance\u001b[0m\u001b[0;34m(\u001b[0m\u001b[0mother_p\u001b[0m\u001b[0;34m)\u001b[0m \u001b[0;34m<\u001b[0m \u001b[0mself\u001b[0m\u001b[0;34m.\u001b[0m\u001b[0mradius\u001b[0m\u001b[0;34m\u001b[0m\u001b[0;34m\u001b[0m\u001b[0m\n\u001b[1;32m     25\u001b[0m \u001b[0;34m\u001b[0m\u001b[0m\n\u001b[0;32m---> 26\u001b[0;31m \u001b[0mc\u001b[0m \u001b[0;34m=\u001b[0m \u001b[0mCircle\u001b[0m\u001b[0;34m(\u001b[0m\u001b[0;36m5\u001b[0m\u001b[0;34m,\u001b[0m\u001b[0;34m(\u001b[0m\u001b[0;36m0\u001b[0m\u001b[0;34m,\u001b[0m\u001b[0;36m0\u001b[0m\u001b[0;34m)\u001b[0m\u001b[0;34m)\u001b[0m\u001b[0;34m\u001b[0m\u001b[0;34m\u001b[0m\u001b[0m\n\u001b[0m",
            "\u001b[0;32m<ipython-input-3-3cc9e56fbecc>\u001b[0m in \u001b[0;36m__init__\u001b[0;34m(self, radius, center)\u001b[0m\n\u001b[1;32m     12\u001b[0m   \u001b[0;32mdef\u001b[0m \u001b[0m__init__\u001b[0m\u001b[0;34m(\u001b[0m\u001b[0mself\u001b[0m\u001b[0;34m,\u001b[0m\u001b[0mradius\u001b[0m\u001b[0;34m,\u001b[0m\u001b[0mcenter\u001b[0m\u001b[0;34m)\u001b[0m\u001b[0;34m:\u001b[0m\u001b[0;34m\u001b[0m\u001b[0;34m\u001b[0m\u001b[0m\n\u001b[1;32m     13\u001b[0m     \u001b[0;32mif\u001b[0m \u001b[0mtype\u001b[0m\u001b[0;34m(\u001b[0m\u001b[0mcenter\u001b[0m\u001b[0;34m)\u001b[0m \u001b[0;34m!=\u001b[0m \u001b[0mPoint\u001b[0m\u001b[0;34m:\u001b[0m\u001b[0;34m\u001b[0m\u001b[0;34m\u001b[0m\u001b[0m\n\u001b[0;32m---> 14\u001b[0;31m       \u001b[0;32mraise\u001b[0m \u001b[0mValueError\u001b[0m\u001b[0;34m(\u001b[0m\u001b[0;34m)\u001b[0m\u001b[0;34m\u001b[0m\u001b[0;34m\u001b[0m\u001b[0m\n\u001b[0m\u001b[1;32m     15\u001b[0m     \u001b[0;32mif\u001b[0m \u001b[0mtype\u001b[0m\u001b[0;34m(\u001b[0m\u001b[0mradius\u001b[0m\u001b[0;34m)\u001b[0m \u001b[0;34m!=\u001b[0m \u001b[0mint\u001b[0m\u001b[0;34m:\u001b[0m\u001b[0;34m\u001b[0m\u001b[0;34m\u001b[0m\u001b[0m\n\u001b[1;32m     16\u001b[0m       \u001b[0;32mraise\u001b[0m \u001b[0mValueError\u001b[0m\u001b[0;34m(\u001b[0m\u001b[0;34m)\u001b[0m\u001b[0;34m\u001b[0m\u001b[0;34m\u001b[0m\u001b[0m\n",
            "\u001b[0;31mValueError\u001b[0m: "
          ]
        }
      ]
    },
    {
      "cell_type": "code",
      "execution_count": null,
      "metadata": {
        "id": "HV0Xtt16kedV",
        "colab": {
          "base_uri": "https://localhost:8080/"
        },
        "outputId": "63dff020-dbf5-4d43-81d6-99e1fcb420b5"
      },
      "outputs": [
        {
          "output_type": "stream",
          "name": "stdout",
          "text": [
            "VW\n",
            "0\n",
            "1\n"
          ]
        }
      ],
      "source": [
        "class Car:\n",
        "    def __init__(self, make=\"VW\"):\n",
        "        self.make = make\n",
        "        self.gear = 0\n",
        "\n",
        "    def gear_change_up(self):\n",
        "        if self.gear <= 7:\n",
        "            self.gear+=1\n",
        "        print(self.gear)\n",
        "\n",
        "    def gear_change_down(self):\n",
        "        if self.gear >= 0:\n",
        "            self.gear-=1\n",
        "        print(self.gear)\n",
        "\n",
        "my_car = Car()\n",
        "print(my_car.make)\n",
        "print(my_car.gear)\n",
        "my_car.gear_change_up()"
      ]
    },
    {
      "cell_type": "markdown",
      "source": [
        "**Ex 2. Dunder methods**\n"
      ],
      "metadata": {
        "id": "HbDdO_iIxpTt"
      }
    },
    {
      "cell_type": "code",
      "source": [
        "class Fraction():\n",
        "  def __init__(self,n,d):\n",
        "    self.num = n\n",
        "    self.den = d\n",
        "\n",
        "  def frac_mul(self, oth):\n",
        "    return (self.num * oth.num)/(self.den * oth.den)\n",
        "\n",
        "a = Fraction(1,2)\n",
        "b = Fraction(5,7)\n",
        "print(a * b)"
      ],
      "metadata": {
        "id": "d-QqGIMX5_YR",
        "colab": {
          "base_uri": "https://localhost:8080/",
          "height": 178
        },
        "outputId": "4ba56d9e-d329-4da1-ba45-c20990f28c7f"
      },
      "execution_count": null,
      "outputs": [
        {
          "output_type": "error",
          "ename": "TypeError",
          "evalue": "unsupported operand type(s) for *: 'Fraction' and 'Fraction'",
          "traceback": [
            "\u001b[0;31m---------------------------------------------------------------------------\u001b[0m",
            "\u001b[0;31mTypeError\u001b[0m                                 Traceback (most recent call last)",
            "\u001b[0;32m<ipython-input-5-4754d5f1909d>\u001b[0m in \u001b[0;36m<cell line: 0>\u001b[0;34m()\u001b[0m\n\u001b[1;32m      9\u001b[0m \u001b[0ma\u001b[0m \u001b[0;34m=\u001b[0m \u001b[0mFraction\u001b[0m\u001b[0;34m(\u001b[0m\u001b[0;36m1\u001b[0m\u001b[0;34m,\u001b[0m\u001b[0;36m2\u001b[0m\u001b[0;34m)\u001b[0m\u001b[0;34m\u001b[0m\u001b[0;34m\u001b[0m\u001b[0m\n\u001b[1;32m     10\u001b[0m \u001b[0mb\u001b[0m \u001b[0;34m=\u001b[0m \u001b[0mFraction\u001b[0m\u001b[0;34m(\u001b[0m\u001b[0;36m5\u001b[0m\u001b[0;34m,\u001b[0m\u001b[0;36m7\u001b[0m\u001b[0;34m)\u001b[0m\u001b[0;34m\u001b[0m\u001b[0;34m\u001b[0m\u001b[0m\n\u001b[0;32m---> 11\u001b[0;31m \u001b[0mprint\u001b[0m\u001b[0;34m(\u001b[0m\u001b[0ma\u001b[0m \u001b[0;34m*\u001b[0m \u001b[0mb\u001b[0m\u001b[0;34m)\u001b[0m\u001b[0;34m\u001b[0m\u001b[0;34m\u001b[0m\u001b[0m\n\u001b[0m",
            "\u001b[0;31mTypeError\u001b[0m: unsupported operand type(s) for *: 'Fraction' and 'Fraction'"
          ]
        }
      ]
    },
    {
      "cell_type": "code",
      "source": [
        "class Fraction():\n",
        "  def __init__(self,n,d):\n",
        "    self.num = n\n",
        "    self.den = d\n",
        "\n",
        "  def __mul__(self, other):\n",
        "    m_num = self.num * other.num\n",
        "    m_den = self.den * other.den\n",
        "    return Fraction(m_num,m_den)\n",
        "\n",
        "a = Fraction(1,2)\n",
        "b = Fraction(5,7)\n",
        "print(a * b)"
      ],
      "metadata": {
        "id": "qaGv1KCVe9md",
        "colab": {
          "base_uri": "https://localhost:8080/"
        },
        "outputId": "cadc9ece-e3d1-440f-ec00-bb509a329e26"
      },
      "execution_count": null,
      "outputs": [
        {
          "output_type": "stream",
          "name": "stdout",
          "text": [
            "<__main__.Fraction object at 0x7866ec17ec10>\n"
          ]
        }
      ]
    },
    {
      "cell_type": "code",
      "source": [
        "class Fraction():\n",
        "  def __init__(self,n,d):\n",
        "    self.num = n\n",
        "    self.den = d\n",
        "\n",
        "  def __mul__(self, other):\n",
        "    m_num = self.num * other.num\n",
        "    m_den = self.den * other.den\n",
        "    return Fraction(m_num,m_den)\n",
        "\n",
        "  def __str__(self):\n",
        "    return \"<\" + str(self.num) + \"/\" + str(self.den) + \">\"\n",
        "\n",
        "a = Fraction(1,2)\n",
        "b = Fraction(5,7)\n",
        "print(a * b)\n",
        "print(a.__mul__(b))\n",
        "print(Fraction.__mul__(a,b))"
      ],
      "metadata": {
        "id": "Enqwu42XxqZk",
        "colab": {
          "base_uri": "https://localhost:8080/"
        },
        "outputId": "df58050e-24a8-45c2-ff24-2f36fe8954a2"
      },
      "execution_count": null,
      "outputs": [
        {
          "output_type": "stream",
          "name": "stdout",
          "text": [
            "<5/14>\n",
            "<5/14>\n",
            "<5/14>\n"
          ]
        }
      ]
    },
    {
      "cell_type": "code",
      "source": [
        "class Fraction():\n",
        "  def __init__(self,n,d):\n",
        "    self.num = n\n",
        "    self.den = d\n",
        "\n",
        "  def __mul__(self, other):\n",
        "    m_num = self.num * other.num\n",
        "    m_den = self.den * other.den\n",
        "    return Fraction(m_num,m_den)\n",
        "\n",
        "  def __str__(self):\n",
        "    return \"<\" + str(self.num) + \"/\" + str(self.den) + \">\"\n",
        "\n",
        "  def __float__(self):\n",
        "    return self.num/self.den\n",
        "\n",
        "a = Fraction(1,2)\n",
        "b = Fraction(5,7)\n",
        "c = a * b\n",
        "print(c)\n",
        "print(type(c))\n",
        "print(float(c))"
      ],
      "metadata": {
        "id": "Dt4XAGOny7hv",
        "colab": {
          "base_uri": "https://localhost:8080/"
        },
        "outputId": "9d71337b-1bf4-4d81-9972-8122a5f22758"
      },
      "execution_count": null,
      "outputs": [
        {
          "output_type": "stream",
          "name": "stdout",
          "text": [
            "<5/14>\n",
            "<class '__main__.Fraction'>\n",
            "0.35714285714285715\n"
          ]
        }
      ]
    },
    {
      "cell_type": "code",
      "source": [
        "class Text:\n",
        "  def __init__(self, text: str) -> None:\n",
        "    self.text = text\n",
        "\n",
        "  def __format__(self, format_spec: str) -> str:\n",
        "    match format_spec:\n",
        "      case 'upper':\n",
        "        return self.text.upper()\n",
        "\n",
        "      case 'lower':\n",
        "        return self.text.lower()\n",
        "\n",
        "      case 'count':\n",
        "        return str(len(self.text))\n",
        "\n",
        "      case _:\n",
        "        raise ValueError(f'Format specifier \"{format_spec}\" does not exist')\n",
        "\n",
        "txt: Text = Text('Python')\n",
        "print(f'{txt:upper}')\n",
        "print(f'{txt:lower}')\n",
        "print(f'{txt:count}')\n",
        "print(f'{txt:undescore}')"
      ],
      "metadata": {
        "id": "brIREIu1yBc-",
        "colab": {
          "base_uri": "https://localhost:8080/",
          "height": 354
        },
        "outputId": "a8f5a2c3-8cb6-4d01-babd-5c9e039fb49e"
      },
      "execution_count": null,
      "outputs": [
        {
          "output_type": "stream",
          "name": "stdout",
          "text": [
            "PYTHON\n",
            "python\n",
            "6\n"
          ]
        },
        {
          "output_type": "error",
          "ename": "ValueError",
          "evalue": "Format specifier \"undescore\" does not exist",
          "traceback": [
            "\u001b[0;31m---------------------------------------------------------------------------\u001b[0m",
            "\u001b[0;31mValueError\u001b[0m                                Traceback (most recent call last)",
            "\u001b[0;32m<ipython-input-9-eff147ae2540>\u001b[0m in \u001b[0;36m<cell line: 0>\u001b[0;34m()\u001b[0m\n\u001b[1;32m     21\u001b[0m \u001b[0mprint\u001b[0m\u001b[0;34m(\u001b[0m\u001b[0;34mf'{txt:lower}'\u001b[0m\u001b[0;34m)\u001b[0m\u001b[0;34m\u001b[0m\u001b[0;34m\u001b[0m\u001b[0m\n\u001b[1;32m     22\u001b[0m \u001b[0mprint\u001b[0m\u001b[0;34m(\u001b[0m\u001b[0;34mf'{txt:count}'\u001b[0m\u001b[0;34m)\u001b[0m\u001b[0;34m\u001b[0m\u001b[0;34m\u001b[0m\u001b[0m\n\u001b[0;32m---> 23\u001b[0;31m \u001b[0mprint\u001b[0m\u001b[0;34m(\u001b[0m\u001b[0;34mf'{txt:undescore}'\u001b[0m\u001b[0;34m)\u001b[0m\u001b[0;34m\u001b[0m\u001b[0;34m\u001b[0m\u001b[0m\n\u001b[0m",
            "\u001b[0;32m<ipython-input-9-eff147ae2540>\u001b[0m in \u001b[0;36m__format__\u001b[0;34m(self, format_spec)\u001b[0m\n\u001b[1;32m     15\u001b[0m \u001b[0;34m\u001b[0m\u001b[0m\n\u001b[1;32m     16\u001b[0m       \u001b[0mcase\u001b[0m \u001b[0m_\u001b[0m\u001b[0;34m:\u001b[0m\u001b[0;34m\u001b[0m\u001b[0;34m\u001b[0m\u001b[0m\n\u001b[0;32m---> 17\u001b[0;31m         \u001b[0;32mraise\u001b[0m \u001b[0mValueError\u001b[0m\u001b[0;34m(\u001b[0m\u001b[0;34mf'Format specifier \"{format_spec}\" does not exist'\u001b[0m\u001b[0;34m)\u001b[0m\u001b[0;34m\u001b[0m\u001b[0;34m\u001b[0m\u001b[0m\n\u001b[0m\u001b[1;32m     18\u001b[0m \u001b[0;34m\u001b[0m\u001b[0m\n\u001b[1;32m     19\u001b[0m \u001b[0mtxt\u001b[0m\u001b[0;34m:\u001b[0m \u001b[0mText\u001b[0m \u001b[0;34m=\u001b[0m \u001b[0mText\u001b[0m\u001b[0;34m(\u001b[0m\u001b[0;34m'Python'\u001b[0m\u001b[0;34m)\u001b[0m\u001b[0;34m\u001b[0m\u001b[0;34m\u001b[0m\u001b[0m\n",
            "\u001b[0;31mValueError\u001b[0m: Format specifier \"undescore\" does not exist"
          ]
        }
      ]
    },
    {
      "cell_type": "markdown",
      "source": [
        "Dunder methods list - https://docs.python.org/3/reference/datamodel.html"
      ],
      "metadata": {
        "id": "CLWQlt1Whn9z"
      }
    },
    {
      "cell_type": "markdown",
      "source": [
        "**Ex 3. Getters and setters**"
      ],
      "metadata": {
        "id": "xs4eP9wWdES-"
      }
    },
    {
      "cell_type": "code",
      "source": [
        "class Animal:\n",
        "  def __init__(self,my_name = \"No name\"):\n",
        "    self.name = my_name\n",
        "    self.age = 0\n",
        "\n",
        "  def __str__(self):\n",
        "    return str(self.name) + \" is \" + str(self.age) + \" years old\"\n",
        "\n",
        "  def get_name(self):\n",
        "    return self.name\n",
        "\n",
        "  def set_name(self, new_name):\n",
        "    self.name = new_name\n",
        "\n",
        "  def get_age(self):\n",
        "    return self.age\n",
        "\n",
        "  def set_age(self, new_age = 0):\n",
        "    self.age = new_age\n",
        "\n",
        "animal_1 = Animal(\"Dog\")\n",
        "print(animal_1)\n",
        "animal_1.set_age(5)\n",
        "print(animal_1)\n",
        "print(animal_1.get_age())"
      ],
      "metadata": {
        "colab": {
          "base_uri": "https://localhost:8080/"
        },
        "id": "Qg_JKazTdDoy",
        "outputId": "d7f3fded-f2f0-41f5-b67c-e9d17e180db8"
      },
      "execution_count": null,
      "outputs": [
        {
          "output_type": "stream",
          "name": "stdout",
          "text": [
            "Dog is 0 years old\n",
            "Dog is 5 years old\n",
            "5\n"
          ]
        }
      ]
    },
    {
      "cell_type": "markdown",
      "source": [
        "**Ex 4. Messy code**"
      ],
      "metadata": {
        "id": "e_hGPNUTfvhe"
      }
    },
    {
      "cell_type": "code",
      "source": [
        "class Animal:\n",
        "  def __init__(self,name = \"No name\"):\n",
        "    self.name = name\n",
        "    self.age = 0\n",
        "\n",
        "  def __str__(self):\n",
        "    return str(self.name) + \" is \" + str(self.age) + \" years old\"\n",
        "\n",
        "animal_1 = Animal(\"Cat\")\n",
        "print(animal_1)\n",
        "animal_1.age = 'infinity'\n",
        "print(animal_1)\n",
        "animal_1.weight = 55\n",
        "print(animal_1.weight)"
      ],
      "metadata": {
        "colab": {
          "base_uri": "https://localhost:8080/"
        },
        "id": "cERuAH4Afyux",
        "outputId": "9d9b3730-7fa9-46ea-c28b-b151ab680b6c"
      },
      "execution_count": null,
      "outputs": [
        {
          "output_type": "stream",
          "name": "stdout",
          "text": [
            "Cat is 0 years old\n",
            "Cat is infinity years old\n",
            "55\n"
          ]
        }
      ]
    },
    {
      "cell_type": "markdown",
      "source": [
        "**Ex 5. Inheritance / Dziedziczenie**"
      ],
      "metadata": {
        "id": "cdByvZ0QnaqG"
      }
    },
    {
      "cell_type": "code",
      "source": [
        "# parent class / superclass\n",
        "class Animal:\n",
        "  def __init__(self, years):\n",
        "    self.name = None\n",
        "    self.age = years\n",
        "\n",
        "  def __str__(self):\n",
        "    return str(self.name) + \" is \" + str(self.age) + \" years old\"\n",
        "\n",
        "  def get_name(self):\n",
        "    return self.name\n",
        "\n",
        "  def set_name(self, new_name):\n",
        "    self.name = new_name\n",
        "\n",
        "  def get_age(self):\n",
        "    return self.age\n",
        "\n",
        "  def set_age(self, new_age):\n",
        "    self.age = new_age\n",
        "\n",
        "# child class / subclass\n",
        "class Cat(Animal):\n",
        "  def speak(self):\n",
        "    print(\"miau\")\n",
        "\n",
        "  # overriding\n",
        "  def __str__(self):\n",
        "     return \"Cat \" + str(self.name) + \" is \" + str(self.age) + \" years old\"\n",
        "\n",
        "c = Cat(4)\n",
        "c.set_name(\"Frosty\")\n",
        "print(c)\n",
        "c.speak()"
      ],
      "metadata": {
        "id": "fFK2DaeoRlCR",
        "colab": {
          "base_uri": "https://localhost:8080/"
        },
        "outputId": "2597bab6-9b0c-45b3-e6d2-db765d305101"
      },
      "execution_count": null,
      "outputs": [
        {
          "output_type": "stream",
          "name": "stdout",
          "text": [
            "Cat Frosty is 4 years old\n",
            "miau\n"
          ]
        }
      ]
    },
    {
      "cell_type": "code",
      "source": [
        "class Animal:\n",
        "  def __init__(self, years):\n",
        "    self.name = None\n",
        "    self.age = years\n",
        "\n",
        "  def __str__(self):\n",
        "    return str(self.name) + \" is \" + str(self.age) + \" years old\"\n",
        "\n",
        "  def get_name(self):\n",
        "    return self.name\n",
        "\n",
        "  def set_name(self, new_name):\n",
        "    self.name = new_name\n",
        "\n",
        "  def get_age(self):\n",
        "    return self.age\n",
        "\n",
        "  def set_age(self, new_age):\n",
        "    self.age = new_age\n",
        "\n",
        "class Human(Animal):\n",
        "  def __init__(self, name, years):\n",
        "    Animal.__init__(self, years)\n",
        "    self.set_name(name)\n",
        "    self.friends = []\n",
        "\n",
        "  def add_friend(self,f_name):\n",
        "    if f_name not in self.friends:\n",
        "      self.friends.append(f_name)\n",
        "\n",
        "  def get_friend(self):\n",
        "    return self.friends.copy()\n",
        "\n",
        "  def speak(self):\n",
        "    print(\"Greetings!!\")\n",
        "\n",
        "class Student(Human):\n",
        "  def __init__(self, name, age, field_of_study = None):\n",
        "    Human.__init__(self, name, age)\n",
        "    self.major = field_of_study\n",
        "\n",
        "  def change_field_of_study(self, new_major):\n",
        "    self.major = new_major\n",
        "\n",
        "  def __str__(self):\n",
        "    return \"Student \" + str(self.name) + \" studies \" + str(self.major)\n",
        "\n",
        "person_1 = Human(\"Tom\", 25)\n",
        "person_1.speak()\n",
        "print(person_1)\n",
        "person_2 = Student(\"Tim\", 20, \"Computer Science\")\n",
        "person_2.speak()\n",
        "print(person_2)\n"
      ],
      "metadata": {
        "id": "Q2wGCu1tTlQE",
        "colab": {
          "base_uri": "https://localhost:8080/"
        },
        "outputId": "7aa925ed-af09-4b1e-f0e6-3b1c222a149f"
      },
      "execution_count": null,
      "outputs": [
        {
          "output_type": "stream",
          "name": "stdout",
          "text": [
            "Greetings!!\n",
            "Tom is 25 years old\n",
            "Greetings!!\n",
            "Student Tim studies Computer Science\n"
          ]
        }
      ]
    },
    {
      "cell_type": "code",
      "source": [
        "class Person(object):\n",
        "    def __init__(self, name, surname, age):\n",
        "        self.name = name\n",
        "        self.surname = surname\n",
        "        self.age = age\n",
        "\n",
        "    def hasName(self):\n",
        "        print(\"Has name\")\n",
        "\n",
        "class Student(Person):\n",
        "    def __init__(self, name, surname, field_of_study, age):\n",
        "        super().__init__(name,surname,age)\n",
        "        self.field_of_study = field_of_study\n",
        "\n",
        "    def isStudent(self):\n",
        "        print(\"Is student\")\n",
        "\n",
        "person_1 = Person(\"Tom\",\"Nowak\",25)\n",
        "student_1 = Student(\"Tom\", \"Nowak\" ,\"Informatics\", 25)\n",
        "student_1.hasName()"
      ],
      "metadata": {
        "id": "QraRm0dKnuBd",
        "colab": {
          "base_uri": "https://localhost:8080/"
        },
        "outputId": "cbe5be8f-be7a-43a2-f93f-2987297ea284"
      },
      "execution_count": null,
      "outputs": [
        {
          "output_type": "stream",
          "name": "stdout",
          "text": [
            "Has name\n"
          ]
        }
      ]
    },
    {
      "cell_type": "markdown",
      "source": [
        "**Ex 5. Class variables / Pola statyczne. Static methods / Metody statyczne. Class methods**"
      ],
      "metadata": {
        "id": "Vn0BsOPInNDv"
      }
    },
    {
      "cell_type": "code",
      "source": [
        "class Calculator:\n",
        "  def __init__(self, version):\n",
        "    self.version = version\n",
        "\n",
        "  def description(self):\n",
        "    print(f'Calculator app version {self.version}')\n",
        "\n",
        "  @staticmethod\n",
        "  def add_numbers(*numbers):\n",
        "      return sum(numbers)\n",
        "\n",
        "calc_1 = Calculator(1)\n",
        "calc_1.description()\n",
        "Calculator.add_numbers(1,2,3,4,5,6,100)"
      ],
      "metadata": {
        "colab": {
          "base_uri": "https://localhost:8080/"
        },
        "id": "HlmevxV1oA9T",
        "outputId": "937359ad-765f-4ca6-bf48-4d075bfbaf0f"
      },
      "execution_count": null,
      "outputs": [
        {
          "output_type": "stream",
          "name": "stdout",
          "text": [
            "Calculator app version 1\n"
          ]
        },
        {
          "output_type": "execute_result",
          "data": {
            "text/plain": [
              "121"
            ]
          },
          "metadata": {},
          "execution_count": 17
        }
      ]
    },
    {
      "cell_type": "code",
      "source": [
        "from datetime import date\n",
        "\n",
        "class Car:\n",
        "  def __init__(self, car_make, car_age):\n",
        "    self.make = car_make\n",
        "    self.age = car_age\n",
        "    print(f'This is {self.make}')\n",
        "\n",
        "  def car_desc(self):\n",
        "    print(f'This is {self.make} which is {self.age} years old')\n",
        "\n",
        "  @classmethod\n",
        "  def age_from_year(cls, car_make, prod_year):\n",
        "    current_year = date.today().year\n",
        "    return cls(car_make, current_year - prod_year)\n",
        "\n",
        "vw = Car(\"VW Beetle\",20)\n",
        "vw.car_desc()\n",
        "ford = Car.age_from_year(\"Ford Falcon\",1955)\n",
        "ford.car_desc()"
      ],
      "metadata": {
        "id": "aQjXl62ep-CH",
        "colab": {
          "base_uri": "https://localhost:8080/"
        },
        "outputId": "8bae70ee-0b98-4499-86e3-172e829cf2c4"
      },
      "execution_count": null,
      "outputs": [
        {
          "output_type": "stream",
          "name": "stdout",
          "text": [
            "This is VW Beetle\n",
            "This is VW Beetle which is 20 years old\n",
            "This is Ford Falcon\n",
            "This is Ford Falcon which is 70 years old\n"
          ]
        }
      ]
    },
    {
      "cell_type": "code",
      "source": [
        "from datetime import date\n",
        "\n",
        "class Car:\n",
        "  number_of_cars = 0\n",
        "\n",
        "  def __init__(self, car_make, car_age):\n",
        "    Car.number_of_cars +=1\n",
        "    self.make = car_make\n",
        "    self.age = car_age\n",
        "    print(f'This is {self.make}')\n",
        "\n",
        "  def car_desc(self):\n",
        "    print(f'This is {self.make} which is {self.age} years old')\n",
        "\n",
        "  @classmethod\n",
        "  def age_from_year(cls, car_make, prod_year):\n",
        "    current_year = date.today().year\n",
        "    return cls(car_make, current_year - prod_year)\n",
        "\n",
        "  def __del__(self):\n",
        "    Car.number_of_cars -=1\n",
        "\n",
        "vw = Car(\"VW Beetle\",20)\n",
        "vw.car_desc()\n",
        "print(vw.number_of_cars)\n",
        "print(f\"Total number of cars is {Car.number_of_cars}\")\n",
        "ford = Car.age_from_year(\"Ford Falcon\",1955)\n",
        "ford.car_desc()\n",
        "print(f\"Total number of cars is {Car.number_of_cars}\")\n",
        "kia = Car.age_from_year(\"Kia Sportage\", 2022)\n",
        "del(vw)\n",
        "print(f\"VW was scrapped. Total number of cars is {Car.number_of_cars}\")\n",
        "kia = None\n",
        "print(f\"No more Kia. Total number of cars is {Car.number_of_cars}\")"
      ],
      "metadata": {
        "id": "OYrbqtjBt7RC",
        "colab": {
          "base_uri": "https://localhost:8080/"
        },
        "outputId": "d3e522b8-2079-4442-c2ca-935019bde302"
      },
      "execution_count": null,
      "outputs": [
        {
          "output_type": "stream",
          "name": "stdout",
          "text": [
            "This is VW Beetle\n",
            "This is VW Beetle which is 20 years old\n",
            "1\n",
            "Total number of cars is 1\n",
            "This is Ford Falcon\n",
            "This is Ford Falcon which is 70 years old\n",
            "Total number of cars is 2\n",
            "This is Kia Sportage\n",
            "VW was scrapped. Total number of cars is 2\n",
            "No more Kia. Total number of cars is 1\n"
          ]
        }
      ]
    },
    {
      "cell_type": "markdown",
      "source": [
        "**Ex 7. Class State Dictionary**"
      ],
      "metadata": {
        "id": "0XpomRTCcXJO"
      }
    },
    {
      "cell_type": "code",
      "source": [
        "class Animal:\n",
        "  \"\"\"Doc string\"\"\"\n",
        "  def __init__(self, years):\n",
        "    self.name = None\n",
        "    self.age = years\n",
        "\n",
        "  def __str__(self):\n",
        "    return str(self.name) + \" is \" + str(self.age) + \" years old\"\n",
        "\n",
        "  def get_name(self):\n",
        "    return self.name\n",
        "\n",
        "  def set_name(self, new_name):\n",
        "    self.name = new_name\n",
        "\n",
        "  def get_age(self):\n",
        "    return self.age\n",
        "\n",
        "  def set_age(self, new_age):\n",
        "    self.age = new_age\n",
        "\n",
        "print(Animal.__dict__.keys())\n",
        "print(Animal.__dict__.values())\n",
        "help(Animal)\n",
        "a_1 = Animal(5)\n",
        "print(a_1.__dict__.keys())\n",
        "print(a_1.__dict__.values())"
      ],
      "metadata": {
        "id": "2bYldWrMcXsB",
        "colab": {
          "base_uri": "https://localhost:8080/"
        },
        "outputId": "a4d44b94-1bf7-4431-a91e-53ddf504db8e"
      },
      "execution_count": null,
      "outputs": [
        {
          "output_type": "stream",
          "name": "stdout",
          "text": [
            "dict_keys(['__module__', '__doc__', '__init__', '__str__', 'get_name', 'set_name', 'get_age', 'set_age', '__dict__', '__weakref__'])\n",
            "dict_values(['__main__', 'Doc string', <function Animal.__init__ at 0x7866ec21b2e0>, <function Animal.__str__ at 0x7866ec21b4c0>, <function Animal.get_name at 0x7866ec21b740>, <function Animal.set_name at 0x7866ec21a3e0>, <function Animal.get_age at 0x7866ec219300>, <function Animal.set_age at 0x7866ec21a660>, <attribute '__dict__' of 'Animal' objects>, <attribute '__weakref__' of 'Animal' objects>])\n",
            "Help on class Animal in module __main__:\n",
            "\n",
            "class Animal(builtins.object)\n",
            " |  Animal(years)\n",
            " |  \n",
            " |  Doc string\n",
            " |  \n",
            " |  Methods defined here:\n",
            " |  \n",
            " |  __init__(self, years)\n",
            " |      Initialize self.  See help(type(self)) for accurate signature.\n",
            " |  \n",
            " |  __str__(self)\n",
            " |      Return str(self).\n",
            " |  \n",
            " |  get_age(self)\n",
            " |  \n",
            " |  get_name(self)\n",
            " |  \n",
            " |  set_age(self, new_age)\n",
            " |  \n",
            " |  set_name(self, new_name)\n",
            " |  \n",
            " |  ----------------------------------------------------------------------\n",
            " |  Data descriptors defined here:\n",
            " |  \n",
            " |  __dict__\n",
            " |      dictionary for instance variables\n",
            " |  \n",
            " |  __weakref__\n",
            " |      list of weak references to the object\n",
            "\n",
            "dict_keys(['name', 'age'])\n",
            "dict_values([None, 5])\n"
          ]
        }
      ]
    },
    {
      "cell_type": "markdown",
      "source": [
        "**Ex 8. Encapsulation / Hermetyzacja**"
      ],
      "metadata": {
        "id": "ymqqqEyFromy"
      }
    },
    {
      "cell_type": "code",
      "source": [
        "class Encapsulation:\n",
        "    def __init__(self):\n",
        "        self.public, self._protected, self.__priv = 1, 2, 3\n",
        "\n",
        "encaps = Encapsulation()\n",
        "\n",
        "print(encaps.public)\n",
        "print(encaps._protected)\n",
        "try:\n",
        "  print(encaps.__priv)\n",
        "except Exception as e:\n",
        "  print(f'Private attribute access error {e}')\n",
        "\n",
        "print(encaps._Encapsulation__priv)"
      ],
      "metadata": {
        "colab": {
          "base_uri": "https://localhost:8080/"
        },
        "id": "0bCSoo_7kkv0",
        "outputId": "f704f074-9eab-41ee-c7d7-262089d1681a"
      },
      "execution_count": null,
      "outputs": [
        {
          "output_type": "stream",
          "name": "stdout",
          "text": [
            "1\n",
            "2\n",
            "Private attribute access error 'Encapsulation' object has no attribute '__priv'\n",
            "3\n"
          ]
        }
      ]
    },
    {
      "cell_type": "code",
      "source": [
        "class Encapsulation:\n",
        "  def __init__(self):\n",
        "      self.public, self._protected, self.__private = 1, 2, 3\n",
        "\n",
        "  def get_private(self):\n",
        "    return self.__private\n",
        "\n",
        "  def set_private(self,prv):\n",
        "    self.__private = prv\n",
        "\n",
        "  def __str__(self):\n",
        "    return f'{self.__private}'\n",
        "\n",
        "e = Encapsulation()\n",
        "print(e)\n",
        "e.set_private(10)\n",
        "print(e)"
      ],
      "metadata": {
        "colab": {
          "base_uri": "https://localhost:8080/"
        },
        "id": "Es7tmOSrMjoz",
        "outputId": "4d4534f7-e9c1-4b22-f732-85a54b368633"
      },
      "execution_count": null,
      "outputs": [
        {
          "output_type": "stream",
          "name": "stdout",
          "text": [
            "3\n",
            "10\n"
          ]
        }
      ]
    },
    {
      "cell_type": "markdown",
      "source": [
        "**Ex 9. *super()***"
      ],
      "metadata": {
        "id": "V1zFY4V607YF"
      }
    },
    {
      "cell_type": "code",
      "source": [
        "class Shape:\n",
        "  pi = 3.14\n",
        "\n",
        "  def __init__(self, colour, is_filled = False):\n",
        "    self.color = colour\n",
        "    self.filled = is_filled\n",
        "\n",
        "  def description(self):\n",
        "    print(f\"It is {'filled' if self.filled else 'not filled'} with {self.color} paint\")\n",
        "\n",
        "class Square(Shape):\n",
        "  def __init__(self, colour, is_filled, square_width):\n",
        "    Shape.__init__(self, colour, is_filled)\n",
        "    self.width = square_width\n",
        "\n",
        "  def description(self):\n",
        "    print(f\"The area of this square equals {self.width ** 2}\")\n",
        "    Shape.description(self)\n",
        "\n",
        "class Circle(Shape):\n",
        "  def __init__(self, colour, is_filled, radius):\n",
        "    super().__init__(colour, is_filled)\n",
        "    self.radius = radius\n",
        "\n",
        "  def description(self):\n",
        "    print(f\"The area of this cricle equals {Shape.pi * (self.radius ** 2)}\")\n",
        "    super().description()\n",
        "\n",
        "sq_1 = Square('Red', is_filled = True, square_width = 10)\n",
        "sq_1.description()\n",
        "\n",
        "c_1 = Circle('Blue', is_filled = False, radius = 5)\n",
        "c_1.description()\n"
      ],
      "metadata": {
        "colab": {
          "base_uri": "https://localhost:8080/"
        },
        "id": "lECzpa3507hQ",
        "outputId": "385dc2f7-33e4-4a0c-fcb4-f5d5a5f626d6"
      },
      "execution_count": null,
      "outputs": [
        {
          "output_type": "stream",
          "name": "stdout",
          "text": [
            "The area of this square equals 100\n",
            "It is filled with Red paint\n",
            "The area of this cricle equals 78.5\n",
            "It is not filled with Blue paint\n"
          ]
        }
      ]
    },
    {
      "cell_type": "code",
      "source": [
        "class Rectangle:\n",
        "    def __init__(self, length, width):\n",
        "        self.length = length\n",
        "        self.width = width\n",
        "\n",
        "    def area(self):\n",
        "        return self.length * self.width\n",
        "\n",
        "    def perimeter(self):\n",
        "        return 2 * self.length + 2 * self.width\n",
        "\n",
        "class Triangle:\n",
        "    def __init__(self, base, height):\n",
        "        self.base = base\n",
        "        self.height = height\n",
        "\n",
        "    def area(self):\n",
        "        return 0.5 * self.base * self.height\n",
        "\n",
        "class Square(Rectangle):\n",
        "    def __init__(self, length):\n",
        "        super().__init__(length, length)\n",
        "\n",
        "class RightPyramid(Square,Triangle):\n",
        "    def __init__(self, base, slant_height):\n",
        "        self.base = base\n",
        "        self.slant_height = slant_height\n",
        "        super().__init__(self.base)\n",
        "\n",
        "    def area(self):\n",
        "        base_area = super().area()\n",
        "        perimeter = super().perimeter()\n",
        "        return 0.5 * perimeter * self.slant_height + base_area\n",
        "\n",
        "block = RightPyramid(2,5)\n",
        "block.area()"
      ],
      "metadata": {
        "colab": {
          "base_uri": "https://localhost:8080/"
        },
        "id": "nn1zE7Q5Cn7H",
        "outputId": "d5fdc169-3298-4629-bb84-8b046470d1f2"
      },
      "execution_count": null,
      "outputs": [
        {
          "output_type": "execute_result",
          "data": {
            "text/plain": [
              "24.0"
            ]
          },
          "metadata": {},
          "execution_count": 25
        }
      ]
    }
  ]
}